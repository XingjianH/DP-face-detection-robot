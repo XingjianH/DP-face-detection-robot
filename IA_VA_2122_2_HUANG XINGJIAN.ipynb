{
 "cells": [
  {
   "cell_type": "markdown",
   "metadata": {},
   "source": [
    "# Etude de classifieurs\n",
    "\n",
    "Les classifieurs étudiés ici sont disponibles dans Scikit-Learn, la librairie python de Machine-Learning développée par l'INRIA.\n",
    "Les classifieurs étudiés ici sont :\n",
    "- régression logistique\n",
    "- K plus proches voisins (KPPV ou KNN)\n",
    "- arbres de décision\n",
    "- Adaboost (Adaptative Boosting)\n",
    "- SVM (Suport Vector Machine)\n",
    "- MLP (Multi-Layer Perceptron)\n",
    "\n",
    "Chaque classifieur est utilisé avec des jeux de données \"jouet\" (Iris, Digit...) et des jeux de données plus réalistes (MNIST, GTSRB...).\n",
    "\n",
    "## Régression\n",
    "\n",
    "Il existe deux grands types de régression : \n",
    "- régression linéaire pour l'estimation de grandeurs continue\n",
    "- régression logistique pour la classification\n",
    "\n",
    "On s'intéresse ici donc plus à la régression logistique, mais en passant par un exemple \"jouet\" de régression linéaire pour bien faire la distinction entre les 2 types.\n",
    "\n",
    "### Régression linaire\n",
    "\n",
    "#### Régression linéaire mono-variée\n",
    "\n",
    "Comme son nom l'indique, la régression linéaire mon-variée concerne une unique variable d'entrée.\n",
    "Dans l'exemple suivant, on charge les données à partir d'un fichier de données (\"student_scores.csv\"), à l'aide d'une fonction Pandas.\n",
    "\n",
    "(Source : https://stackabuse.com/linear-regression-in-python-with-scikit-learn/)"
   ]
  },
  {
   "cell_type": "code",
   "execution_count": 21,
   "metadata": {},
   "outputs": [
    {
     "name": "stdout",
     "output_type": "stream",
     "text": [
      "--2022-10-20 08:53:43--  https://raw.githubusercontent.com/encodedANAND/K-Fold-Cross-Validation/master/advertising.csv\n",
      "Resolving raw.githubusercontent.com (raw.githubusercontent.com)... 185.199.110.133, 185.199.109.133, 185.199.111.133, ...\n",
      "Connecting to raw.githubusercontent.com (raw.githubusercontent.com)|185.199.110.133|:443... connected.\n",
      "HTTP request sent, awaiting response... 404 Not Found\n",
      "2022-10-20 08:53:43 ERROR 404: Not Found.\n",
      "\n"
     ]
    }
   ],
   "source": [
    "!wget https://raw.githubusercontent.com/encodedANAND/K-Fold-Cross-Validation/master/advertising.csv"
   ]
  },
  {
   "cell_type": "code",
   "execution_count": 22,
   "metadata": {},
   "outputs": [
    {
     "name": "stdout",
     "output_type": "stream",
     "text": [
      "(25, 2)\n",
      "   Hours  Scores\n",
      "0    2.5      21\n",
      "1    5.1      47\n",
      "2    3.2      27\n",
      "3    8.5      75\n",
      "4    3.5      30\n"
     ]
    },
    {
     "data": {
      "text/html": [
       "<div>\n",
       "<style scoped>\n",
       "    .dataframe tbody tr th:only-of-type {\n",
       "        vertical-align: middle;\n",
       "    }\n",
       "\n",
       "    .dataframe tbody tr th {\n",
       "        vertical-align: top;\n",
       "    }\n",
       "\n",
       "    .dataframe thead th {\n",
       "        text-align: right;\n",
       "    }\n",
       "</style>\n",
       "<table border=\"1\" class=\"dataframe\">\n",
       "  <thead>\n",
       "    <tr style=\"text-align: right;\">\n",
       "      <th></th>\n",
       "      <th>Hours</th>\n",
       "      <th>Scores</th>\n",
       "    </tr>\n",
       "  </thead>\n",
       "  <tbody>\n",
       "    <tr>\n",
       "      <th>count</th>\n",
       "      <td>25.000000</td>\n",
       "      <td>25.000000</td>\n",
       "    </tr>\n",
       "    <tr>\n",
       "      <th>mean</th>\n",
       "      <td>5.012000</td>\n",
       "      <td>51.480000</td>\n",
       "    </tr>\n",
       "    <tr>\n",
       "      <th>std</th>\n",
       "      <td>2.525094</td>\n",
       "      <td>25.286887</td>\n",
       "    </tr>\n",
       "    <tr>\n",
       "      <th>min</th>\n",
       "      <td>1.100000</td>\n",
       "      <td>17.000000</td>\n",
       "    </tr>\n",
       "    <tr>\n",
       "      <th>25%</th>\n",
       "      <td>2.700000</td>\n",
       "      <td>30.000000</td>\n",
       "    </tr>\n",
       "    <tr>\n",
       "      <th>50%</th>\n",
       "      <td>4.800000</td>\n",
       "      <td>47.000000</td>\n",
       "    </tr>\n",
       "    <tr>\n",
       "      <th>75%</th>\n",
       "      <td>7.400000</td>\n",
       "      <td>75.000000</td>\n",
       "    </tr>\n",
       "    <tr>\n",
       "      <th>max</th>\n",
       "      <td>9.200000</td>\n",
       "      <td>95.000000</td>\n",
       "    </tr>\n",
       "  </tbody>\n",
       "</table>\n",
       "</div>"
      ],
      "text/plain": [
       "           Hours     Scores\n",
       "count  25.000000  25.000000\n",
       "mean    5.012000  51.480000\n",
       "std     2.525094  25.286887\n",
       "min     1.100000  17.000000\n",
       "25%     2.700000  30.000000\n",
       "50%     4.800000  47.000000\n",
       "75%     7.400000  75.000000\n",
       "max     9.200000  95.000000"
      ]
     },
     "execution_count": 22,
     "metadata": {},
     "output_type": "execute_result"
    }
   ],
   "source": [
    "import pandas as pd\n",
    "\n",
    "dataset = pd.read_csv('student_scores.csv')\n",
    "print(dataset.shape)\n",
    "print(dataset.head())    #affichage du début du fichier\n",
    "dataset.describe()       #fonction pandas d'affichage de statistiques du dataset"
   ]
  },
  {
   "cell_type": "markdown",
   "metadata": {},
   "source": [
    "On peut représenter les données graphiquement. C'est facile puisqu'il n'y a qu'une seule variable. Les couples (entrée, sortie) sont donc en 2D. "
   ]
  },
  {
   "cell_type": "code",
   "execution_count": 23,
   "metadata": {},
   "outputs": [
    {
     "data": {
      "image/png": "[encoded data removed]",
      "text/plain": [
       "<Figure size 640x480 with 1 Axes>"
      ]
     },
     "metadata": {},
     "output_type": "display_data"
    }
   ],
   "source": [
    "import matplotlib.pyplot as plt\n",
    "\n",
    "#affichage graphique\n",
    "dataset.plot(x='Hours', y='Scores', style='o')\n",
    "plt.title('Hours vs Percentage')\n",
    "plt.xlabel('Hours Studied')\n",
    "plt.ylabel('Percentage Score')\n",
    "plt.show()"
   ]
  },
  {
   "cell_type": "markdown",
   "metadata": {},
   "source": [
    "On applique maintenant la régression linéaire, qui revient ici à modéliser les données par une droite (donc à déterminer 2 paramètres : ordonnée à l'origine et pente).\n",
    "Mais pour évaluer la qualité de cette modélisation, il faut garder à part quelques données non utilisées dans la modélisation.\n",
    "On sépare notre jeu de données en 2 sous-ensembles (\"train\"/\"test\"). Puis on applique la régression aux données d'apprentissage uniquement."
   ]
  },
  {
   "cell_type": "code",
   "execution_count": 24,
   "metadata": {
    "scrolled": true
   },
   "outputs": [
    {
     "name": "stdout",
     "output_type": "stream",
     "text": [
      "[[3.8]\n",
      " [1.9]\n",
      " [7.8]\n",
      " [6.9]\n",
      " [1.1]\n",
      " [5.1]\n",
      " [7.7]\n",
      " [3.3]\n",
      " [8.3]\n",
      " [9.2]\n",
      " [6.1]\n",
      " [3.5]\n",
      " [2.7]\n",
      " [5.5]\n",
      " [2.7]\n",
      " [8.5]\n",
      " [2.5]\n",
      " [4.8]\n",
      " [8.9]\n",
      " [4.5]]\n",
      "[35 24 86 76 17 47 85 42 81 88 67 30 25 60 30 75 21 54 95 41]\n",
      "[[1.5]\n",
      " [3.2]\n",
      " [7.4]\n",
      " [2.5]\n",
      " [5.9]]\n",
      "[20 27 69 30 62]\n"
     ]
    }
   ],
   "source": [
    "from sklearn.model_selection import train_test_split\n",
    "from sklearn.linear_model import LinearRegression\n",
    "\n",
    "#séparation des données en train/test, puis modélisation par régression linéaire\n",
    "#  use iloc to get data for a specific row\n",
    "X = dataset.iloc[:, :-1].values \n",
    "y = dataset.iloc[:, 1].values\n",
    "# print(X)\n",
    "# print(\"change lane\")\n",
    "# print(y)\n",
    "X_train, X_test, y_train, y_test = train_test_split(X, y, test_size=0.2, random_state=0)\n",
    "\n",
    "print(X_train)\n",
    "print(y_train)\n",
    "print(X_test)\n",
    "print(y_test)"
   ]
  },
  {
   "cell_type": "markdown",
   "metadata": {},
   "source": [
    "Puis on crée le régresseur et on l'adapte aux données d'apprentissage."
   ]
  },
  {
   "cell_type": "code",
   "execution_count": 25,
   "metadata": {},
   "outputs": [
    {
     "name": "stdout",
     "output_type": "stream",
     "text": [
      "2.018160041434683\n",
      "[9.91065648]\n"
     ]
    }
   ],
   "source": [
    "regressor = LinearRegression()      #création du modèle\n",
    "regressor.fit(X_train, y_train)     #adaptation du modèle (\"apprentissage\")\n",
    "\n",
    "print(regressor.intercept_)         #ordonnée à l'origine de la droite\n",
    "print(regressor.coef_)              #pente"
   ]
  },
  {
   "cell_type": "markdown",
   "metadata": {},
   "source": [
    "Pour évaluer les performances du modèle, il reste à l'appliquer aux données de test.\n",
    "On utilise pour cela la fonction \"predict\"."
   ]
  },
  {
   "cell_type": "code",
   "execution_count": 26,
   "metadata": {},
   "outputs": [
    {
     "name": "stdout",
     "output_type": "stream",
     "text": [
      "[16.88414476 33.73226078 75.357018   26.79480124 60.49103328]\n"
     ]
    }
   ],
   "source": [
    "y_pred = regressor.predict(X_test)\n",
    "\n",
    "print(y_pred)"
   ]
  },
  {
   "cell_type": "markdown",
   "metadata": {},
   "source": [
    "Reste à afficher les résultats. On peut utiliser la fonction \"DataFrame\" de Pandas, qui crée un tableau à 2 dimensions.\n",
    "\n",
    "On peut également afficher quelques statistiques courantes d'évaluation de ces résultats de test : erreur au carré moyenne, erreur absolue moyenne, etc. \n",
    "\n",
    "Les erreurs sont calculées à partir des estimations données par le modèle de regression et les valeurs réelles, des scores des étudiant(e)s."
   ]
  },
  {
   "cell_type": "code",
   "execution_count": 27,
   "metadata": {},
   "outputs": [
    {
     "name": "stdout",
     "output_type": "stream",
     "text": [
      "   Actual  Predicted\n",
      "0      20  16.884145\n",
      "1      27  33.732261\n",
      "2      69  75.357018\n",
      "3      30  26.794801\n",
      "4      62  60.491033\n",
      "Mean Squared Error: 21.6\n",
      "Mean Absolute Error: 4.18\n",
      "Root Mean Squared Error: 4.65\n"
     ]
    }
   ],
   "source": [
    "from sklearn import metrics\n",
    "import numpy as np\n",
    "\n",
    "df = pd.DataFrame({'Actual': y_test, 'Predicted': y_pred})\n",
    "\n",
    "print(df)\n",
    "\n",
    "print('Mean Squared Error:', round(metrics.mean_squared_error(y_test, y_pred), 2))    #arrondi à 2 décimales\n",
    "print('Mean Absolute Error:', round(metrics.mean_absolute_error(y_test, y_pred), 2))\n",
    "print('Root Mean Squared Error:', round(np.sqrt(metrics.mean_squared_error(y_test, y_pred)), 2))"
   ]
  },
  {
   "cell_type": "markdown",
   "metadata": {},
   "source": [
    "On peut alors superposer le modèle (= la droite) aux points correspondants aux données, dans l'affichage graphique."
   ]
  },
  {
   "cell_type": "code",
   "execution_count": 28,
   "metadata": {},
   "outputs": [
    {
     "name": "stdout",
     "output_type": "stream",
     "text": [
      "[[1.5]\n",
      " [3.2]\n",
      " [7.4]\n",
      " [2.5]\n",
      " [5.9]]\n"
     ]
    },
    {
     "data": {
      "image/png": "[encoded data removed]",
      "text/plain": [
       "<Figure size 640x480 with 1 Axes>"
      ]
     },
     "metadata": {},
     "output_type": "display_data"
    }
   ],
   "source": [
    "print(X_test)\n",
    "dataset.plot(x='Hours', y='Scores', style='o')\n",
    "plt.title('Hours vs Percentage')\n",
    "plt.xlabel('Hours Studied')\n",
    "plt.ylabel('Percentage Score')\n",
    "\n",
    "a = regressor.coef_[0]     #pente\n",
    "b = regressor.intercept_   #ordonnée à l'origine\n",
    "x1, y1 = 1, a*1+b\n",
    "x2, y2 = 9, a*9+b\n",
    "\n",
    "X = [x1, x2]\n",
    "Y = [y1, y2]\n",
    "\n",
    "plt.plot(X, Y, '-r', linewidth=2)\n",
    "plt.show()"
   ]
  },
  {
   "cell_type": "markdown",
   "metadata": {},
   "source": [
    "On constate que l'estimation est correcte."
   ]
  },
  {
   "cell_type": "markdown",
   "metadata": {},
   "source": [
    "#### Régression linéaire multiple (ou multi-variée)\n",
    "\n",
    "Dans la régression linéaire multiple, on cherche à estimer une variable à partir de plusieurs autres.\n",
    "Par exemple le dataset \"petrol_consumption.csv\", contient la consommation de gaz de plusieurs états américains, en fonction de différents facteurs (taxes sur le pétrole, revenu par habitant, etc).\n",
    "Le programme permettant d'appliquer la régression linéaire à ces données est le même que le précédent. Par contre, les résultats ne peuvent pas être visualisés graphiquement.  \n",
    "\n",
    "(Source : https://stackabuse.com/linear-regression-in-python-with-scikit-learn/)"
   ]
  },
  {
   "cell_type": "code",
   "execution_count": 29,
   "metadata": {},
   "outputs": [
    {
     "name": "stdout",
     "output_type": "stream",
     "text": [
      "--2022-10-20 08:54:00--  https://raw.githubusercontent.com/anjan111/Machine-Learning/master/petrol_consumption.csv\n",
      "Resolving raw.githubusercontent.com (raw.githubusercontent.com)... 185.199.109.133, 185.199.110.133, 185.199.108.133, ...\n",
      "Connecting to raw.githubusercontent.com (raw.githubusercontent.com)|185.199.109.133|:443... connected.\n",
      "HTTP request sent, awaiting response... 200 OK\n",
      "Length: 1389 (1.4K) [text/plain]\n",
      "Saving to: ‘petrol_consumption.csv.2’\n",
      "\n",
      "petrol_consumption. 100%[===================>]   1.36K  --.-KB/s    in 0s      \n",
      "\n",
      "2022-10-20 08:54:00 (9.85 MB/s) - ‘petrol_consumption.csv.2’ saved [1389/1389]\n",
      "\n"
     ]
    }
   ],
   "source": [
    "!wget https://raw.githubusercontent.com/anjan111/Machine-Learning/master/petrol_consumption.csv"
   ]
  },
  {
   "cell_type": "markdown",
   "metadata": {},
   "source": [
    "On peut lui appliquer les différentes étapes vues dans l'exemple précédent."
   ]
  },
  {
   "cell_type": "code",
   "execution_count": 30,
   "metadata": {},
   "outputs": [
    {
     "name": "stdout",
     "output_type": "stream",
     "text": [
      "début du fichier : \n",
      "   Petrol_tax  Average_income  Paved_Highways  Population_Driver_licence(%)  \\\n",
      "0         9.0            3571            1976                         0.525   \n",
      "1         9.0            4092            1250                         0.572   \n",
      "2         9.0            3865            1586                         0.580   \n",
      "3         7.5            4870            2351                         0.529   \n",
      "4         8.0            4399             431                         0.544   \n",
      "\n",
      "   Petrol_Consumption  \n",
      "0                 541  \n",
      "1                 524  \n",
      "2                 561  \n",
      "3                 414  \n",
      "4                 410  \n",
      "\n",
      "description :\n",
      "       Petrol_tax  Average_income  Paved_Highways  \\\n",
      "count   48.000000       48.000000       48.000000   \n",
      "mean     7.668333     4241.833333     5565.416667   \n",
      "std      0.950770      573.623768     3491.507166   \n",
      "min      5.000000     3063.000000      431.000000   \n",
      "25%      7.000000     3739.000000     3110.250000   \n",
      "50%      7.500000     4298.000000     4735.500000   \n",
      "75%      8.125000     4578.750000     7156.000000   \n",
      "max     10.000000     5342.000000    17782.000000   \n",
      "\n",
      "       Population_Driver_licence(%)  Petrol_Consumption  \n",
      "count                     48.000000           48.000000  \n",
      "mean                       0.570333          576.770833  \n",
      "std                        0.055470          111.885816  \n",
      "min                        0.451000          344.000000  \n",
      "25%                        0.529750          509.500000  \n",
      "50%                        0.564500          568.500000  \n",
      "75%                        0.595250          632.750000  \n",
      "max                        0.724000          968.000000  \n",
      "\n",
      "parametres obtenus :\n",
      "                              Coefficient\n",
      "Petrol_tax                     -40.016660\n",
      "Average_income                  -0.065413\n",
      "Paved_Highways                  -0.004741\n",
      "Population_Driver_licence(%)  1341.862121\n",
      "\n",
      "résultats avec échantillon de test :\n",
      "    Actual   Predicted\n",
      "29     534  469.391989\n",
      "4      410  545.645464\n",
      "26     577  589.668394\n",
      "30     571  569.730413\n",
      "32     577  649.774809\n",
      "37     704  646.631164\n",
      "34     487  511.608148\n",
      "40     587  672.475177\n",
      "7      467  502.074782\n",
      "10     580  501.270734\n",
      "Root Mean Squared Error: 68.31\n"
     ]
    }
   ],
   "source": [
    "import pandas as pd\n",
    "import numpy as np\n",
    "import matplotlib.pyplot as plt\n",
    "from sklearn.model_selection import train_test_split\n",
    "from sklearn.linear_model import LinearRegression\n",
    "from sklearn import metrics\n",
    "\n",
    "dataset = pd.read_csv('petrol_consumption.csv')\n",
    "print(\"début du fichier : \")\n",
    "print(dataset.head())\n",
    "print(\"\\ndescription :\")\n",
    "print(dataset.describe())\n",
    "\n",
    "X = dataset[['Petrol_tax', 'Average_income', 'Paved_Highways', 'Population_Driver_licence(%)']]\n",
    "y = dataset['Petrol_Consumption']\n",
    "\n",
    "X_train, X_test, y_train, y_test = train_test_split(X, y, test_size=0.2, random_state=0)\n",
    "regressor = LinearRegression()\n",
    "regressor.fit(X_train, y_train)\n",
    "\n",
    "coeff_df = pd.DataFrame(regressor.coef_, X.columns, columns=['Coefficient'])\n",
    "print(\"\\nparametres obtenus :\")\n",
    "print(coeff_df)\n",
    "\n",
    "y_pred = regressor.predict(X_test)\n",
    "df = pd.DataFrame({'Actual': y_test, 'Predicted': y_pred})\n",
    "print(\"\\nrésultats avec échantillon de test :\")\n",
    "print(df)\n",
    "\n",
    "print('Root Mean Squared Error:', round(np.sqrt(metrics.mean_squared_error(y_test, y_pred)), 2))"
   ]
  },
  {
   "cell_type": "markdown",
   "metadata": {},
   "source": []
  },
  {
   "cell_type": "markdown",
   "metadata": {},
   "source": [
    "### Régression Logistique\n",
    "\n",
    "Pour rappel, dans le cas mono-varié, la régression logistique cherche à modéliser un problème de classification par une courbe de type \"logistique\" (courbe en \"S\", ou sigmoïde).\n",
    "\n",
    "##### Application aux données \"Student Scores\"\n",
    "\n",
    "On peut commencer par l'appliquer au dataset auquel on a déjà appliqué la régression linéaire (\"Student Scores\").\n",
    "Pour que ça fonctionne, il faut transformer les notes des étudiants en classes binaires : \"matière validée\" / \"non validée\".\n",
    "On va considérer que la validation correspond à une note >=10.\n",
    "Les seules différences par rapport à la version linéaire de la régression sont :\n",
    "- les valeurs de sorties doivent être des classes binaires (classe positive / classe négative).\n",
    "- le modèle à afficher est une sigmoïde\n",
    "- puisque la régression logistique est une classification, on peut afficher le taux de classification correcte (\"accuracy\") et la matrice de confusion"
   ]
  },
  {
   "cell_type": "code",
   "execution_count": 31,
   "metadata": {},
   "outputs": [
    {
     "name": "stdout",
     "output_type": "stream",
     "text": [
      "[21 47 27 75 30 20 88 60 81 25 85 62 41 42 17 95 30 24 67 69 30 54 35 76\n",
      " 86]\n",
      "[0 0 0 1 0 0 1 1 1 0 1 1 0 0 0 1 0 0 1 1 0 1 0 1 1]\n",
      "X_train : \n",
      "[[8.3]\n",
      " [9.2]\n",
      " [6.1]\n",
      " [3.5]\n",
      " [2.7]\n",
      " [5.5]\n",
      " [2.7]\n",
      " [8.5]\n",
      " [2.5]\n",
      " [4.8]\n",
      " [8.9]\n",
      " [4.5]]\n",
      "X_test : \n",
      "[[1.5]\n",
      " [3.2]\n",
      " [7.4]\n",
      " [2.5]\n",
      " [5.9]\n",
      " [3.8]\n",
      " [1.9]\n",
      " [7.8]\n",
      " [6.9]\n",
      " [1.1]\n",
      " [5.1]\n",
      " [7.7]\n",
      " [3.3]]\n",
      "y_train : \n",
      "[1 1 1 0 0 1 0 1 0 1 1 0]\n",
      "y_test : \n",
      "[0 0 1 0 1 0 0 1 1 0 0 1 0]\n",
      "apprentissage...\n",
      "ok\n",
      "Sorties prédites : \n",
      "[0 0 1 0 1 0 0 1 1 0 1 1 0]\n",
      "Probabilités d'appartenance aux classes pour chaque donnée de test :\n",
      "[[0.98 0.02]\n",
      " [0.86 0.14]\n",
      " [0.03 0.97]\n",
      " [0.94 0.06]\n",
      " [0.17 0.83]\n",
      " [0.75 0.25]\n",
      " [0.97 0.03]\n",
      " [0.02 0.98]\n",
      " [0.05 0.95]\n",
      " [0.99 0.01]\n",
      " [0.36 0.64]\n",
      " [0.02 0.98]\n",
      " [0.85 0.15]]\n",
      "score (précision, taux de classification correcte): \n",
      "0.92\n",
      "\n",
      "matrice de confusion :\n",
      "[[7 1]\n",
      " [0 5]]\n"
     ]
    }
   ],
   "source": [
    "import numpy as np\n",
    "import pandas as pd\n",
    "from sklearn.model_selection import train_test_split\n",
    "from sklearn.linear_model import LogisticRegression\n",
    "from sklearn import metrics\n",
    "from sklearn.metrics import *\n",
    "import matplotlib.pyplot as plt\n",
    "from scipy.special import expit\n",
    "\n",
    "dataset = pd.read_csv('student_scores.csv')\n",
    "X = dataset.iloc[:, :-1].values\n",
    "y = dataset.iloc[:, 1].values\n",
    "print(y)\n",
    "#conversion des valeurs de sortie en classes\n",
    "for i in range(y.size):\n",
    "    if y[i] >= 50:       #les sorties sont données en pourcentage du score max\n",
    "        y[i] = 1\n",
    "    else:\n",
    "        y[i] = 0\n",
    "print(y)\n",
    "#rm : l'opération précédente peut être faite de façon plus compacte \n",
    "\n",
    "X_train, X_test, y_train, y_test = train_test_split(X, y, test_size=0.5, random_state=0)\n",
    "print(\"X_train : \")\n",
    "print(X_train)\n",
    "print(\"X_test : \")\n",
    "print(X_test)\n",
    "print(\"y_train : \")\n",
    "print(y_train)\n",
    "print(\"y_test : \")\n",
    "print(y_test)\n",
    "\n",
    "regressor = LogisticRegression()    #création du modèle\n",
    "\n",
    "print(\"apprentissage...\")\n",
    "regressor.fit(X_train, y_train)     #adaptation du modèle (\"apprentissage\")\n",
    "print(\"ok\")\n",
    "\n",
    "y_pred = regressor.predict(X_test)\n",
    "print(\"Sorties prédites : \")\n",
    "print(y_pred)\n",
    "probs_y = regressor.predict_proba(X_test)  # Predict probabilities\n",
    "probs_y = np.round(probs_y, 2)            #arrondir à 2 décimales\n",
    "print(\"Probabilités d'appartenance aux classes pour chaque donnée de test :\")\n",
    "print(probs_y)\n",
    "\n",
    "score = regressor.score(X_test, y_test)\n",
    "print(\"score (précision, taux de classification correcte): \")\n",
    "print(round(score, 2))                          #arrondi à 2 chiffres après la virgule\n",
    "\n",
    "#matrice de confusion\n",
    "cm = confusion_matrix(y_test, y_pred)\n",
    "print(\"\\nmatrice de confusion :\")\n",
    "print(cm)\n"
   ]
  },
  {
   "cell_type": "markdown",
   "metadata": {},
   "source": [
    "La même chose en graphique..."
   ]
  },
  {
   "cell_type": "code",
   "execution_count": 32,
   "metadata": {},
   "outputs": [
    {
     "name": "stdout",
     "output_type": "stream",
     "text": [
      "1.1.2\n"
     ]
    },
    {
     "name": "stderr",
     "output_type": "stream",
     "text": [
      "/opt/conda/lib/python3.10/site-packages/sklearn/utils/deprecation.py:87: FutureWarning: Function plot_confusion_matrix is deprecated; Function `plot_confusion_matrix` is deprecated in 1.0 and will be removed in 1.2. Use one of the class methods: ConfusionMatrixDisplay.from_predictions or ConfusionMatrixDisplay.from_estimator.\n",
      "  warnings.warn(msg, category=FutureWarning)\n"
     ]
    },
    {
     "data": {
      "image/png": "[encoded data removed]",
      "text/plain": [
       "<Figure size 640x480 with 2 Axes>"
      ]
     },
     "metadata": {},
     "output_type": "display_data"
    }
   ],
   "source": [
    "import sklearn\n",
    "print(sklearn.__version__)\n",
    "\n",
    "#la même matrice de confusion mais en graphique\n",
    "from sklearn.metrics import plot_confusion_matrix\n",
    "\n",
    "disp = metrics.plot_confusion_matrix(regressor, X_test, y_test)\n",
    "disp.figure_.suptitle(\"Confusion Matrix\")\n",
    "plt.show()"
   ]
  },
  {
   "cell_type": "markdown",
   "metadata": {},
   "source": [
    "Affichage graphique des données et du modèle :"
   ]
  },
  {
   "cell_type": "code",
   "execution_count": 33,
   "metadata": {
    "scrolled": true
   },
   "outputs": [
    {
     "name": "stdout",
     "output_type": "stream",
     "text": [
      "[ 0.          0.20408163  0.40816327  0.6122449   0.81632653  1.02040816\n",
      "  1.2244898   1.42857143  1.63265306  1.83673469  2.04081633  2.24489796\n",
      "  2.44897959  2.65306122  2.85714286  3.06122449  3.26530612  3.46938776\n",
      "  3.67346939  3.87755102  4.08163265  4.28571429  4.48979592  4.69387755\n",
      "  4.89795918  5.10204082  5.30612245  5.51020408  5.71428571  5.91836735\n",
      "  6.12244898  6.32653061  6.53061224  6.73469388  6.93877551  7.14285714\n",
      "  7.34693878  7.55102041  7.75510204  7.95918367  8.16326531  8.36734694\n",
      "  8.57142857  8.7755102   8.97959184  9.18367347  9.3877551   9.59183673\n",
      "  9.79591837 10.        ]\n",
      "[0.00261549 0.00339391 0.00440296 0.00571031 0.00740295 0.00959248\n",
      " 0.01242149 0.01607129 0.02077095 0.02680748 0.0345365  0.04439225\n",
      " 0.05689483 0.0726509  0.09234313 0.11670128 0.14644791 0.18221269\n",
      " 0.22441536 0.2731281  0.3279437  0.38788981 0.45143315 0.51660072\n",
      " 0.58120851 0.64314613 0.70064155 0.75243918 0.79786007 0.83675541\n",
      " 0.86939174 0.89631184 0.91820538 0.93580722 0.9498282  0.96091462\n",
      " 0.96962962 0.97644903 0.98176599 0.98589991 0.98910701 0.99159087\n",
      " 0.99351206 0.99499654 0.99614269 0.99702707 0.99770915 0.99823502\n",
      " 0.99864033 0.99895267]\n"
     ]
    },
    {
     "data": {
      "image/png": "[encoded data removed]",
      "text/plain": [
       "<Figure size 640x480 with 1 Axes>"
      ]
     },
     "metadata": {},
     "output_type": "display_data"
    }
   ],
   "source": [
    "#affichage graphique : le modèle à afficher est une sigmoïde dont le point d'inflexion est centré sur \"intercept_\" et la pente au point d'inflexion \"coef_\"\n",
    "dataset.plot(x='Hours', y='Scores', style='o')\n",
    "x_plot = np.linspace(0, 10, 50)   #on se definit un tableau de 50 abscisses de 0 à 10 pour la courbe\n",
    "loss = expit(x_plot * regressor.coef_ + regressor.intercept_).ravel()\n",
    "print(x_plot)\n",
    "print(loss)\n",
    "plt.plot(x_plot, loss, color='red', linewidth=3)\n",
    "plt.title('Heures vs Validation')\n",
    "plt.xlabel('Heures d''étude')\n",
    "plt.ylabel('Validation (0/1)')\n",
    "plt.show()"
   ]
  },
  {
   "cell_type": "markdown",
   "metadata": {},
   "source": [
    "### Régression Logistique avec données Iris\n",
    "\n",
    "La différence par rapport à l'exemple précédent est au niveau des tableaux de données."
   ]
  },
  {
   "cell_type": "code",
   "execution_count": 34,
   "metadata": {},
   "outputs": [
    {
     "name": "stdout",
     "output_type": "stream",
     "text": [
      "Probabilités d'appartenance aux 3 classes pour chaque donnée de test :\n",
      "[[0.   0.06 0.94]\n",
      " [0.01 0.96 0.03]\n",
      " [0.98 0.02 0.  ]\n",
      " [0.   0.02 0.98]\n",
      " [0.97 0.03 0.  ]\n",
      " [0.   0.01 0.99]\n",
      " [0.98 0.02 0.  ]\n",
      " [0.   0.75 0.25]\n",
      " [0.   0.74 0.26]\n",
      " [0.02 0.94 0.04]\n",
      " [0.   0.16 0.84]\n",
      " [0.01 0.81 0.18]\n",
      " [0.   0.79 0.2 ]\n",
      " [0.   0.76 0.24]\n",
      " [0.   0.71 0.29]\n",
      " [0.98 0.02 0.  ]\n",
      " [0.01 0.76 0.24]\n",
      " [0.01 0.85 0.14]\n",
      " [0.97 0.03 0.  ]\n",
      " [0.98 0.02 0.  ]\n",
      " [0.   0.19 0.81]\n",
      " [0.01 0.71 0.28]\n",
      " [0.94 0.06 0.  ]\n",
      " [0.98 0.02 0.  ]\n",
      " [0.   0.43 0.57]\n",
      " [0.99 0.01 0.  ]\n",
      " [0.95 0.05 0.  ]\n",
      " [0.01 0.9  0.09]\n",
      " [0.14 0.85 0.01]\n",
      " [0.96 0.04 0.  ]\n",
      " [0.   0.12 0.88]\n",
      " [0.01 0.68 0.3 ]\n",
      " [0.97 0.03 0.  ]\n",
      " [0.   0.36 0.64]\n",
      " [0.   0.03 0.97]\n",
      " [0.05 0.88 0.07]\n",
      " [0.94 0.06 0.  ]\n",
      " [0.   0.31 0.69]]\n",
      "\n",
      "matrice de confusion :\n",
      "[[13  0  0]\n",
      " [ 0 15  1]\n",
      " [ 0  0  9]]\n",
      "score (précision, taux de classification correcte): \n",
      "0.97\n"
     ]
    },
    {
     "name": "stderr",
     "output_type": "stream",
     "text": [
      "/opt/conda/lib/python3.10/site-packages/sklearn/linear_model/_logistic.py:444: ConvergenceWarning: lbfgs failed to converge (status=1):\n",
      "STOP: TOTAL NO. of ITERATIONS REACHED LIMIT.\n",
      "\n",
      "Increase the number of iterations (max_iter) or scale the data as shown in:\n",
      "    https://scikit-learn.org/stable/modules/preprocessing.html\n",
      "Please also refer to the documentation for alternative solver options:\n",
      "    https://scikit-learn.org/stable/modules/linear_model.html#logistic-regression\n",
      "  n_iter_i = _check_optimize_result(\n"
     ]
    }
   ],
   "source": [
    "from sklearn import datasets\n",
    "from sklearn import linear_model\n",
    "from sklearn.linear_model import LogisticRegression\n",
    "from sklearn.datasets import load_iris\n",
    "from sklearn.model_selection import train_test_split\n",
    "from sklearn.metrics import confusion_matrix\n",
    "\n",
    "iris = load_iris()\n",
    "X = iris.data[:, :4]         #elements caracteristiques (features)\n",
    "y = iris.target             #labels (classe reelle)\n",
    "\n",
    "X_train, X_test, y_train, y_test = train_test_split(X, y, test_size = 0.25, random_state = 0)\n",
    "\n",
    "classifier = LogisticRegression(random_state = 0)\n",
    "classifier.fit(X_train, y_train)\n",
    "\n",
    "# Predicting the Test set results\n",
    "y_pred = classifier.predict(X_test)\n",
    "# Predict probabilities\n",
    "probs_y = classifier.predict_proba(X_test)\n",
    "\n",
    "probs_y = np.round(probs_y, 2)            #arrondir à 2 décimales\n",
    "print(\"Probabilités d'appartenance aux 3 classes pour chaque donnée de test :\")\n",
    "print(probs_y)\n",
    "\n",
    "#matrice de confusion\n",
    "cm = confusion_matrix(y_test, y_pred)\n",
    "print(\"\\nmatrice de confusion :\")\n",
    "print(cm)\n",
    "\n",
    "score = classifier.score(X_test, y_test)\n",
    "print(\"score (précision, taux de classification correcte): \")\n",
    "print(round(score, 2))                          #arrondi à 2 chiffres après la virgule\n"
   ]
  },
  {
   "cell_type": "markdown",
   "metadata": {},
   "source": [
    "Onn peut constater que la précision sur les données de test est très bonne, mais le résultat n'est pas très significatif car les données Iris ne contituent pas un dataset complexe, de plus le jeu de test est très réduit.\n",
    "\n",
    "On peut également calculer la matrice de confusion."
   ]
  },
  {
   "cell_type": "code",
   "execution_count": 35,
   "metadata": {},
   "outputs": [
    {
     "name": "stderr",
     "output_type": "stream",
     "text": [
      "/opt/conda/lib/python3.10/site-packages/sklearn/utils/deprecation.py:87: FutureWarning: Function plot_confusion_matrix is deprecated; Function `plot_confusion_matrix` is deprecated in 1.0 and will be removed in 1.2. Use one of the class methods: ConfusionMatrixDisplay.from_predictions or ConfusionMatrixDisplay.from_estimator.\n",
      "  warnings.warn(msg, category=FutureWarning)\n"
     ]
    },
    {
     "data": {
      "image/png": "[encoded data removed]",
      "text/plain": [
       "<Figure size 640x480 with 2 Axes>"
      ]
     },
     "metadata": {},
     "output_type": "display_data"
    }
   ],
   "source": [
    "disp = metrics.plot_confusion_matrix(classifier, X_test, y_test)\n",
    "disp.figure_.suptitle(\"Confusion Matrix\")\n",
    "\n",
    "plt.show()"
   ]
  },
  {
   "cell_type": "markdown",
   "metadata": {},
   "source": [
    "###  Régression logistique avec données Digits (exercice 2.1)\n",
    "\n",
    "On applique la regression logistique aux données Digit."
   ]
  },
  {
   "cell_type": "code",
   "execution_count": 36,
   "metadata": {},
   "outputs": [
    {
     "name": "stderr",
     "output_type": "stream",
     "text": [
      "/opt/conda/lib/python3.10/site-packages/sklearn/linear_model/_logistic.py:444: ConvergenceWarning: lbfgs failed to converge (status=1):\n",
      "STOP: TOTAL NO. of ITERATIONS REACHED LIMIT.\n",
      "\n",
      "Increase the number of iterations (max_iter) or scale the data as shown in:\n",
      "    https://scikit-learn.org/stable/modules/preprocessing.html\n",
      "Please also refer to the documentation for alternative solver options:\n",
      "    https://scikit-learn.org/stable/modules/linear_model.html#logistic-regression\n",
      "  n_iter_i = _check_optimize_result(\n",
      "/opt/conda/lib/python3.10/site-packages/sklearn/utils/deprecation.py:87: FutureWarning: Function plot_confusion_matrix is deprecated; Function `plot_confusion_matrix` is deprecated in 1.0 and will be removed in 1.2. Use one of the class methods: ConfusionMatrixDisplay.from_predictions or ConfusionMatrixDisplay.from_estimator.\n",
      "  warnings.warn(msg, category=FutureWarning)\n"
     ]
    },
    {
     "name": "stdout",
     "output_type": "stream",
     "text": [
      "score (précision, taux de classification correcte) : \n",
      "0.96\n"
     ]
    },
    {
     "data": {
      "image/png": "[encoded data removed]",
      "text/plain": [
       "<Figure size 640x480 with 2 Axes>"
      ]
     },
     "metadata": {},
     "output_type": "display_data"
    }
   ],
   "source": [
    "from sklearn.datasets import make_classification\n",
    "from sklearn.linear_model import LogisticRegression\n",
    "from sklearn.model_selection import train_test_split\n",
    "from sklearn.metrics import roc_curve, roc_auc_score\n",
    "from sklearn.datasets import make_blobs\n",
    "from pandas import DataFrame\n",
    "\n",
    "digits = datasets.load_digits()\n",
    "\n",
    "X = digits.data\n",
    "y = digits.target\n",
    "trainX, testX, trainy, testy = train_test_split(X, y, test_size=0.5, random_state=2)\n",
    "\n",
    "model = LogisticRegression()\n",
    "model.fit(trainX, trainy)\n",
    "probs = model.predict_proba(testX)\n",
    "probs = probs[:, 1]\n",
    "\n",
    "score = model.score(testX, testy)\n",
    "print(\"score (précision, taux de classification correcte) : \")\n",
    "print(round(score, 2))       \n",
    "\n",
    "disp = metrics.plot_confusion_matrix(model, testX, testy)\n",
    "disp.figure_.suptitle(\"Confusion Matrix\")\n",
    "plt.show()\n"
   ]
  },
  {
   "cell_type": "markdown",
   "metadata": {},
   "source": [
    "La précision obtenue est de 96%.\n",
    "\n",
    "Classes les plus confondues : 8 <-> 1, 3 <-> 7, 4 <-> 9 et 5 <-> 9 (resp. classe réelle <-> classe estimée) "
   ]
  },
  {
   "cell_type": "markdown",
   "metadata": {},
   "source": [
    "## Les K plus proches voisins (kPPV, ou KNN)\n",
    "\n",
    "### KPPV avec données Iris\n",
    "\n",
    "La méthode des KPPV ne comporte pas de phase d'apprentissage.\n",
    "Avec ce classifieur la fonction fit() (qui est la fonction d'apprentissage) se limite à répertorier les k plus proches voisins des données d'apprentissage. Ces exemples servent à démarrer l'algorithme, car il faut des exemples dont on connaît déjà la classe, pour pouvoir classifier les autres. "
   ]
  },
  {
   "cell_type": "code",
   "execution_count": 43,
   "metadata": {},
   "outputs": [
    {
     "name": "stdout",
     "output_type": "stream",
     "text": [
      "Probabilités d'appartenance aux 3 classes pour chaque donnée de test :\n",
      "[[0.  0.1 0.9]\n",
      " [0.  1.  0. ]\n",
      " [1.  0.  0. ]\n",
      " [0.  0.  1. ]\n",
      " [1.  0.  0. ]\n",
      " [0.  0.  1. ]\n",
      " [1.  0.  0. ]\n",
      " [0.  0.8 0.2]\n",
      " [0.  0.9 0.1]\n",
      " [0.  1.  0. ]\n",
      " [0.  0.2 0.8]\n",
      " [0.  0.9 0.1]\n",
      " [0.  0.9 0.1]\n",
      " [0.  0.9 0.1]\n",
      " [0.  0.8 0.2]\n",
      " [1.  0.  0. ]\n",
      " [0.  0.9 0.1]\n",
      " [0.  1.  0. ]\n",
      " [1.  0.  0. ]\n",
      " [1.  0.  0. ]\n",
      " [0.  0.4 0.6]\n",
      " [0.  0.9 0.1]\n",
      " [1.  0.  0. ]\n",
      " [1.  0.  0. ]\n",
      " [0.  0.4 0.6]\n",
      " [1.  0.  0. ]\n",
      " [1.  0.  0. ]\n",
      " [0.  1.  0. ]\n",
      " [0.  1.  0. ]\n",
      " [1.  0.  0. ]\n",
      " [0.  0.1 0.9]\n",
      " [0.  0.9 0.1]\n",
      " [1.  0.  0. ]\n",
      " [0.  0.4 0.6]\n",
      " [0.  0.  1. ]\n",
      " [0.  1.  0. ]\n",
      " [1.  0.  0. ]\n",
      " [0.  0.3 0.7]\n",
      " [0.  1.  0. ]\n",
      " [0.  1.  0. ]\n",
      " [0.  0.  1. ]\n",
      " [1.  0.  0. ]\n",
      " [0.  0.1 0.9]\n",
      " [1.  0.  0. ]\n",
      " [1.  0.  0. ]\n",
      " [0.  1.  0. ]\n",
      " [0.  0.1 0.9]\n",
      " [0.  0.  1. ]\n",
      " [0.  0.4 0.6]\n",
      " [0.  0.  1. ]\n",
      " [0.  1.  0. ]\n",
      " [0.  0.  1. ]\n",
      " [0.  0.8 0.2]\n",
      " [0.  1.  0. ]\n",
      " [0.  0.4 0.6]\n",
      " [0.  0.4 0.6]\n",
      " [0.  0.8 0.2]\n",
      " [0.  0.3 0.7]\n",
      " [0.  0.8 0.2]\n",
      " [0.  0.1 0.9]]\n",
      "\n",
      "matrice de confusion :\n",
      "[[16  0  0]\n",
      " [ 0 22  1]\n",
      " [ 0  1 20]]\n",
      "score (précision, taux de classification correcte): \n",
      "0.967\n"
     ]
    }
   ],
   "source": [
    "from sklearn import datasets\n",
    "from sklearn.datasets import load_iris\n",
    "from sklearn.model_selection import train_test_split\n",
    "from sklearn.metrics import confusion_matrix\n",
    "from sklearn.neighbors import KNeighborsClassifier\n",
    "import numpy as np\n",
    "\n",
    "iris = load_iris()\n",
    "X = iris.data               #elements caracteristiques (features)\n",
    "y = iris.target             #labels (classe reelle)\n",
    "\n",
    "X_train, X_test, y_train, y_test = train_test_split(X, y, test_size = 0.4, random_state = 0)\n",
    "\n",
    "classifier = KNeighborsClassifier(n_neighbors = 10)\n",
    "\n",
    "classifier.fit(X_train, y_train)\n",
    "\n",
    "y_pred = classifier.predict(X_test)      #prédiction (classes estimées)\n",
    "#print(y_pred)\n",
    "#print(X_test)\n",
    "probs_y = classifier.predict_proba(X_test)   #probabilités pour chaque classe\n",
    "\n",
    "print(\"Probabilités d'appartenance aux 3 classes pour chaque donnée de test :\")\n",
    "print(np.round(probs_y, 2))     #arrondir à 2 décimales\n",
    "\n",
    "#matrice de confusion\n",
    "cm = confusion_matrix(y_test, y_pred)\n",
    "print(\"\\nmatrice de confusion :\")\n",
    "print(cm)\n",
    "\n",
    "score = classifier.score(X_test, y_test)\n",
    "print(\"score (précision, taux de classification correcte): \")\n",
    "print(round(score, 3))                          #arrondi à 3 chiffres après la virgule\n"
   ]
  },
  {
   "cell_type": "markdown",
   "metadata": {},
   "source": [
    "La précision obtenue pour k=10 voisins est de 96,7 %.\n",
    "\n",
    "#### Recherche de la valeur optimale de k\n",
    "\n",
    "On s'intéresse maintenant à rechercher quelle est la valeur optimale de k.\n",
    "Pour cela, on crée un boucle dans laquelle on fait varier k et on applique le classifieur aux données pour chaque valeur. Puis on réalise un affichage graphique de la précision en fonction de k."
   ]
  },
  {
   "cell_type": "code",
   "execution_count": 45,
   "metadata": {},
   "outputs": [
    {
     "name": "stdout",
     "output_type": "stream",
     "text": [
      "[0.9333333333333333, 0.9166666666666666, 0.95, 0.9666666666666667, 0.9833333333333333, 0.9666666666666667, 0.9666666666666667, 0.9666666666666667, 0.9666666666666667, 0.95, 0.9666666666666667, 0.95, 0.95, 0.9333333333333333]\n",
      "Confusion Matrix:\n",
      "[[20  0  0]\n",
      " [ 0 20  1]\n",
      " [ 0  3 16]]\n",
      "Classification Report:\n",
      "              precision    recall  f1-score   support\n",
      "\n",
      "           0       1.00      1.00      1.00        20\n",
      "           1       0.87      0.95      0.91        21\n",
      "           2       0.94      0.84      0.89        19\n",
      "\n",
      "    accuracy                           0.93        60\n",
      "   macro avg       0.94      0.93      0.93        60\n",
      "weighted avg       0.94      0.93      0.93        60\n",
      "\n"
     ]
    },
    {
     "data": {
      "image/png": "[encoded data removed]",
      "text/plain": [
       "<Figure size 640x480 with 1 Axes>"
      ]
     },
     "metadata": {},
     "output_type": "display_data"
    }
   ],
   "source": [
    "from sklearn import datasets\n",
    "from sklearn import metrics\n",
    "from sklearn.datasets import load_iris\n",
    "from sklearn.neighbors import KNeighborsClassifier\n",
    "from sklearn.model_selection import train_test_split\n",
    "import matplotlib.pyplot as plt\n",
    "import numpy as np\n",
    "from sklearn.preprocessing import StandardScaler\n",
    "\n",
    "iris = load_iris()\n",
    "\n",
    "X = iris.data\n",
    "y = iris.target\n",
    "\n",
    "X_train, X_test, y_train, y_test = train_test_split(X, y, test_size=0.4, random_state=5)\n",
    "\n",
    "#Normalisation des données (facultatif), pour que chaque élément caractéristique\n",
    "#ait une moyenne nulle et un écart-type égal à 1, sur l'ensemble des données\n",
    "scaler = StandardScaler()\n",
    "scaler.fit(X_train)\n",
    "X_train = scaler.transform(X_train)\n",
    "X_test = scaler.transform(X_test)\n",
    "\n",
    "scores = []\n",
    "k_range = range(1, 15)\n",
    "for k in k_range:\n",
    "    knn = KNeighborsClassifier(n_neighbors = k)\n",
    "    knn.fit(X_train, y_train)\n",
    "    y_pred = knn.predict(X_test)\n",
    "    score = metrics.accuracy_score(y_test, y_pred)\n",
    "    scores.append(score)\n",
    "print(scores)\n",
    "\n",
    "result = metrics.confusion_matrix(y_test, y_pred)\n",
    "print(\"Confusion Matrix:\")\n",
    "print(result)\n",
    "result1 = metrics.classification_report(y_test, y_pred)\n",
    "print(\"Classification Report:\",)\n",
    "print(result1)\n",
    "\n",
    "plt.plot(k_range, scores)\n",
    "plt.xlabel('Value of K for KNN')\n",
    "plt.ylabel('Testing Accuracy')\n",
    "plt.show()\n"
   ]
  },
  {
   "cell_type": "markdown",
   "metadata": {},
   "source": [
    "Les résultats dépendent de :\n",
    "- la normalisation des données, activée ou non\n",
    "- la quantité de données utilisées pour l'apprentissage\n",
    "- le paramètres aléatoire de la fonction train_test_split(), qui permet de modifier le choix des exemples tirés au hasard"
   ]
  },
  {
   "cell_type": "markdown",
   "metadata": {},
   "source": [
    "### KPPV  avec Digits \n",
    "\n",
    "On peut faire la la même chose que ci-dessus pour les données Digit.\n",
    "On choisit de prendre 20% des données pour le test."
   ]
  },
  {
   "cell_type": "code",
   "execution_count": 46,
   "metadata": {},
   "outputs": [
    {
     "name": "stdout",
     "output_type": "stream",
     "text": [
      "(1437, 64)\n",
      "(360, 64)\n",
      "[0.9861111111111112, 0.9861111111111112, 0.9861111111111112, 0.9833333333333333, 0.9805555555555555, 0.9805555555555555, 0.9805555555555555, 0.9777777777777777, 0.9722222222222222]\n"
     ]
    },
    {
     "data": {
      "image/png": "[encoded data removed]",
      "text/plain": [
       "<Figure size 640x480 with 1 Axes>"
      ]
     },
     "metadata": {},
     "output_type": "display_data"
    }
   ],
   "source": [
    "from sklearn.model_selection import train_test_split\n",
    "from matplotlib import pyplot\n",
    "\n",
    "digits = datasets.load_digits()\n",
    "\n",
    "X = digits.data\n",
    "y = digits.target\n",
    "trainX, testX, trainy, testy = train_test_split(X, y, test_size=0.2, random_state=2)\n",
    "\n",
    "print(trainX.shape)\n",
    "print(testX.shape)\n",
    "\n",
    "k_range = range(1, 10)\n",
    "scores = []\n",
    "for k in k_range:\n",
    "    knn = KNeighborsClassifier(n_neighbors = k)\n",
    "    knn.fit(trainX, trainy)\n",
    "    y_pred = knn.predict(testX)\n",
    "    score = metrics.accuracy_score(testy, y_pred)\n",
    "    scores.append(score)\n",
    "print(scores)\n",
    "\n",
    "plt.plot(k_range, scores)\n",
    "plt.xlabel('Value of K for KNN')\n",
    "plt.ylabel('Testing Accuracy')\n",
    "plt.show()"
   ]
  },
  {
   "cell_type": "markdown",
   "metadata": {},
   "source": [
    "On constate que la meilleur précision est obtenue pour k=1 à 3 (ce qui peut varier d'un dataset à l'autre)."
   ]
  },
  {
   "cell_type": "markdown",
   "metadata": {},
   "source": [
    "### KPPV avec MNIST\n",
    "\n",
    "On peut utiliser des versions CSV des bases d'apprentissage et de test (pour voir une autre façon de faire)."
   ]
  },
  {
   "cell_type": "markdown",
   "metadata": {},
   "source": [
    "Avec les données MNIST, on ne peut pas se pemettre d'utiliser tous les exemples de la base d'apprentissage, car le traitement de classification serait beaucoup trop long. \n",
    "Dans l'exemple qui suit, on en prend que 1000 sur les 60000 (soit en moyenne 100 pour chacune des 10 classes).\n",
    "\n",
    "Rm : avec des données volumineuses (notion relative, mais on peut considérer que MNIST avec ses 60000 + 10000 images l'est), le traitement peut être long. Il est alors utile d'afficher les temps de traitement (fit() + predict())"
   ]
  },
  {
   "cell_type": "code",
   "execution_count": 47,
   "metadata": {},
   "outputs": [
    {
     "name": "stdout",
     "output_type": "stream",
     "text": [
      "Loading dataset...\n",
      "ok\n",
      "(59999, 784)\n",
      "(59999,)\n",
      "(9999, 784)\n",
      "(9999,)\n",
      "k= 1\n",
      "adaptation classifieur, patience...\n",
      "durée adaptation classifieur : 0.01s.\n",
      "calcul précision, patience...\n",
      "durée prédiction :  2.4s.\n",
      "précision : 86.9%\n",
      "k= 2\n",
      "adaptation classifieur, patience...\n",
      "durée adaptation classifieur : 0.01s.\n",
      "calcul précision, patience...\n",
      "durée prédiction :  2.6s.\n",
      "précision : 85.0%\n",
      "k= 3\n",
      "adaptation classifieur, patience...\n",
      "durée adaptation classifieur : 0.02s.\n",
      "calcul précision, patience...\n",
      "durée prédiction :  2.6s.\n",
      "précision : 86.2%\n",
      "k= 4\n",
      "adaptation classifieur, patience...\n",
      "durée adaptation classifieur : 0.01s.\n",
      "calcul précision, patience...\n",
      "durée prédiction :  2.6s.\n",
      "précision : 86.3%\n",
      "k= 5\n",
      "adaptation classifieur, patience...\n",
      "durée adaptation classifieur : 0.01s.\n",
      "calcul précision, patience...\n",
      "durée prédiction :  2.6s.\n",
      "précision : 85.8%\n",
      "k= 6\n",
      "adaptation classifieur, patience...\n",
      "durée adaptation classifieur : 0.01s.\n",
      "calcul précision, patience...\n",
      "durée prédiction :  2.8s.\n",
      "précision : 85.7%\n",
      "k= 7\n",
      "adaptation classifieur, patience...\n",
      "durée adaptation classifieur : 0.01s.\n",
      "calcul précision, patience...\n",
      "durée prédiction :  2.8s.\n",
      "précision : 85.2%\n",
      "k= 8\n",
      "adaptation classifieur, patience...\n",
      "durée adaptation classifieur : 0.01s.\n",
      "calcul précision, patience...\n",
      "durée prédiction :  2.7s.\n",
      "précision : 85.0%\n",
      "k= 9\n",
      "adaptation classifieur, patience...\n",
      "durée adaptation classifieur : 0.01s.\n",
      "calcul précision, patience...\n",
      "durée prédiction :  2.7s.\n",
      "précision : 84.6%\n",
      "[0.8690869086908691, 0.8496849684968497, 0.862086208620862, 0.8634863486348635, 0.858085808580858, 0.8566856685668567, 0.8520852085208521, 0.8503850385038504, 0.8461846184618462]\n"
     ]
    },
    {
     "data": {
      "image/png": "[encoded data removed]",
      "text/plain": [
       "<Figure size 640x480 with 1 Axes>"
      ]
     },
     "metadata": {},
     "output_type": "display_data"
    }
   ],
   "source": [
    "from sklearn import datasets\n",
    "from sklearn import metrics\n",
    "from sklearn.neighbors import KNeighborsClassifier\n",
    "from sklearn.model_selection import train_test_split\n",
    "import pandas as pd\n",
    "import matplotlib.pyplot as plt\n",
    "import numpy as np\n",
    "import time\n",
    "\n",
    "print(\"Loading dataset...\")\n",
    "train = pd.read_csv('data/MNIST/mnist_train.csv')\n",
    "test = pd.read_csv('data/MNIST/mnist_test.csv')\n",
    "print(\"ok\")\n",
    "\n",
    "trainX = train.values[:, 1:]\n",
    "trainy = train.values[:, 0]\n",
    "testX = test.values[:, 1:]\n",
    "testy = test.values[:, 0]\n",
    "\n",
    "print(trainX.shape)\n",
    "print(trainy.shape)\n",
    "print(testX.shape)\n",
    "print(testy.shape)\n",
    "\n",
    "k_range = range(1, 10)\n",
    "scores = []\n",
    "for k in k_range:\n",
    "    print(\"k=\", k)\n",
    "    knn = KNeighborsClassifier(n_neighbors = k)\n",
    "    print(\"adaptation classifieur, patience...\")\n",
    "    t0 = time.time()\n",
    "    knn.fit(trainX[0:1000], trainy[0:1000])\n",
    "    print(\"durée adaptation classifieur : {:.2f}s.\" .format(time.time()-t0))\n",
    "    print(\"calcul précision, patience...\")\n",
    "    t0 = time.time()\n",
    "    y_pred = knn.predict(testX)\n",
    "    print(\"durée prédiction :  {:.1f}s.\" .format(time.time()-t0))\n",
    "    score = metrics.accuracy_score(testy, y_pred)\n",
    "    scores.append(score)\n",
    "    print('précision : {:.1f}%' .format(score*100))\n",
    "print(scores)\n",
    "\n",
    "plt.plot(k_range, scores)\n",
    "plt.xlabel('Value of K for KNN')\n",
    "plt.ylabel('Testing Accuracy')\n",
    "plt.show()"
   ]
  },
  {
   "cell_type": "markdown",
   "metadata": {},
   "source": [
    "Là encore la meilleure précision est obtenue pour k=1.\n",
    "On constate que le temps de traitement du fit() est très court. Par contre celui du classement des 10000 images de test est beaucoup plus long (16 à 21 s. sur CPU pour ce test).  \n",
    "On constate également que le temps n'augmente pas de façon sensible avec l'augmentation de la valeur de k (ce à quoi on aurait pu s'attendre)."
   ]
  },
  {
   "cell_type": "markdown",
   "metadata": {},
   "source": [
    "### Amélioration des résultats (Exercice 2.2)\n",
    "\n",
    "Dans le programme suivant, on cherche à obtenir au moins 90% de précision, quitte à augmenter un peu le temps de traitement."
   ]
  },
  {
   "cell_type": "code",
   "execution_count": 48,
   "metadata": {},
   "outputs": [
    {
     "name": "stdout",
     "output_type": "stream",
     "text": [
      "k= 1\n",
      "adaptation classifieur, patience...\n",
      "durée adaptation classifieur : 0.10s.\n",
      "calcul précision, patience...\n",
      "durée prédiction :  11.9s.\n",
      "précision : 94.6%\n",
      "k= 2\n",
      "adaptation classifieur, patience...\n",
      "durée adaptation classifieur : 0.08s.\n",
      "calcul précision, patience...\n",
      "durée prédiction :  13.1s.\n",
      "précision : 93.3%\n",
      "k= 3\n",
      "adaptation classifieur, patience...\n",
      "durée adaptation classifieur : 0.11s.\n",
      "calcul précision, patience...\n",
      "durée prédiction :  13.9s.\n",
      "précision : 94.6%\n",
      "k= 4\n",
      "adaptation classifieur, patience...\n",
      "durée adaptation classifieur : 0.08s.\n",
      "calcul précision, patience...\n",
      "durée prédiction :  14.0s.\n",
      "précision : 94.4%\n",
      "k= 5\n",
      "adaptation classifieur, patience...\n",
      "durée adaptation classifieur : 0.09s.\n",
      "calcul précision, patience...\n",
      "durée prédiction :  13.6s.\n",
      "précision : 94.4%\n",
      "k= 6\n",
      "adaptation classifieur, patience...\n",
      "durée adaptation classifieur : 0.08s.\n",
      "calcul précision, patience...\n",
      "durée prédiction :  12.4s.\n",
      "précision : 94.4%\n",
      "k= 7\n",
      "adaptation classifieur, patience...\n",
      "durée adaptation classifieur : 0.08s.\n",
      "calcul précision, patience...\n",
      "durée prédiction :  12.4s.\n",
      "précision : 94.4%\n",
      "k= 8\n",
      "adaptation classifieur, patience...\n",
      "durée adaptation classifieur : 0.08s.\n",
      "calcul précision, patience...\n",
      "durée prédiction :  12.8s.\n",
      "précision : 94.2%\n",
      "k= 9\n",
      "adaptation classifieur, patience...\n",
      "durée adaptation classifieur : 0.08s.\n",
      "calcul précision, patience...\n",
      "durée prédiction :  12.4s.\n",
      "précision : 94.1%\n",
      "[0.9462946294629463, 0.9334933493349334, 0.9462946294629463, 0.9441944194419442, 0.9441944194419442, 0.9441944194419442, 0.9442944294429443, 0.9423942394239424, 0.9407940794079408]\n"
     ]
    },
    {
     "data": {
      "image/png": "[encoded data removed]",
      "text/plain": [
       "<Figure size 640x480 with 1 Axes>"
      ]
     },
     "metadata": {},
     "output_type": "display_data"
    }
   ],
   "source": [
    "k_range = range(1, 10)\n",
    "scores = []\n",
    "for k in k_range:\n",
    "    print(\"k=\", k)\n",
    "    knn = KNeighborsClassifier(n_neighbors = k)\n",
    "    print(\"adaptation classifieur, patience...\")\n",
    "    t0 = time.time()\n",
    "    knn.fit(trainX[0:10000], trainy[0:10000])\n",
    "    print(\"durée adaptation classifieur : {:.2f}s.\" .format(time.time()-t0))\n",
    "    print(\"calcul précision, patience...\")\n",
    "    t0 = time.time()\n",
    "    y_pred = knn.predict(testX)\n",
    "    print(\"durée prédiction :  {:.1f}s.\" .format(time.time()-t0))\n",
    "    score = metrics.accuracy_score(testy, y_pred)\n",
    "    scores.append(score)\n",
    "    print('précision : {:.1f}%' .format(score*100))\n",
    "print(scores)\n",
    "\n",
    "plt.plot(k_range, scores)\n",
    "plt.xlabel('Value of K for KNN')\n",
    "plt.ylabel('Testing Accuracy')\n",
    "plt.show()"
   ]
  },
  {
   "cell_type": "markdown",
   "metadata": {},
   "source": [
    "On constate qu'avec ..... on a pu améliorer la précision, puisqu'on obtient une valeur de  ... pour k=...\n"
   ]
  },
  {
   "cell_type": "markdown",
   "metadata": {},
   "source": [
    "## Arbres de décision (Decision Trees)\n",
    "\n",
    "### Arbres de décision avec Iris"
   ]
  },
  {
   "cell_type": "code",
   "execution_count": null,
   "metadata": {},
   "outputs": [],
   "source": [
    "from sklearn import datasets\n",
    "from sklearn.tree import DecisionTreeClassifier\n",
    "from sklearn.model_selection import train_test_split\n",
    "from sklearn.metrics import accuracy_score\n",
    "\n",
    "iris = datasets.load_iris()\n",
    "X = iris.data\n",
    "y = iris.target\n",
    "\n",
    "X_train, X_test, y_train, y_test = train_test_split(X, y, test_size=0.3) # 70% training and 30% test\n",
    "\n",
    "DTC = DecisionTreeClassifier()                   #creation du classifieur\n",
    "model = DTC.fit(X_train, y_train)                #apprentissage\n",
    "\n",
    "y_pred = model.predict(X_test)                   #prediction des classes pour les donnees de test\n",
    "\n",
    "accuracy = accuracy_score(y_test, y_pred)        #calcul precision\n",
    "print(\"Accuracy:\", round(accuracy, 2))\n",
    "print(\"Accuracy:\", model.score)"
   ]
  },
  {
   "cell_type": "markdown",
   "metadata": {},
   "source": [
    "On peut alors visualiser l'arbre généré par la méthode."
   ]
  },
  {
   "cell_type": "code",
   "execution_count": null,
   "metadata": {},
   "outputs": [],
   "source": [
    "import matplotlib.pyplot as plt\n",
    "from sklearn.tree import plot_tree\n",
    "\n",
    "# Prepare a plot figure with set size.\n",
    "plt.figure(figsize = (15,15))\n",
    "# Plot the decision tree, showing the decisive values and the improvements in Gini impurity along the way.\n",
    "plot_tree(model, filled=True)\n",
    "# Display the tree plot figure.\n",
    "plt.show()"
   ]
  },
  {
   "cell_type": "markdown",
   "metadata": {},
   "source": [
    "Il peut être intéressant de visualiser les séparations des classes.\n",
    "Mais on ne peut le faire qu'en sélectionnant des paires de variables.\n",
    "On utilisera par exemple les caractéritiques \"petal length\" et \"petal width\".\n",
    "Commençons par afficher les exemples en 2D pour ces 2 variables."
   ]
  },
  {
   "cell_type": "code",
   "execution_count": null,
   "metadata": {},
   "outputs": [],
   "source": [
    "import pandas as pd\n",
    "import seaborn as sns\n",
    "import matplotlib.pyplot as plt\n",
    "\n",
    "df = pd.DataFrame(iris.data, columns=iris.feature_names)\n",
    "df['species'] = iris.target\n",
    "df['species_names'] = df.species\n",
    "df.replace({'species_names':{\n",
    "            0:iris['target_names'][0],\n",
    "            1:iris['target_names'][1],\n",
    "            2:iris['target_names'][2]            \n",
    "        }}, inplace=True)\n",
    "df.columns = [item.replace(' (cm)', '') for item in df.columns]\n",
    "df.head()\n",
    "plt.rcParams.update({'axes.labelsize': 'large'})\n",
    "plt.rcParams.update({'axes.titlesize': 'large'})\n",
    "g = sns.FacetGrid(df, hue='species_names', size=5)\n",
    "g.map(plt.scatter, 'petal length', 'petal width', s=20)\n",
    "g.add_legend()\n",
    "g.fig.gca().set_title('Iris species')\n"
   ]
  },
  {
   "cell_type": "markdown",
   "metadata": {},
   "source": [
    "On peut alors appliquer un arbre de décision aux données pour ces 2 variables d'entrée, avec quelques niveaux de profondeur différents : 1, 2 et 3, en visualisant à chaque fois le résultat. On génère également un arbre de décision sans spécifier la profondeur."
   ]
  },
  {
   "cell_type": "code",
   "execution_count": null,
   "metadata": {},
   "outputs": [],
   "source": [
    "import numpy as np\n",
    "from matplotlib.colors import ListedColormap\n",
    "\n",
    "plt.rcParams.update({'figure.titlesize': 'large'})\n",
    "step = 0.04\n",
    "from sklearn import tree\n",
    "X = df[['petal length', 'petal width']]\n",
    "y = df.species\n",
    "    \n",
    "def mesh_plot(x, y, species, ax, clf):\n",
    "    values = species.unique()\n",
    "    colors = sns.color_palette()[:len(values)]\n",
    "    xx, yy = np.meshgrid(\n",
    "        np.arange(x.min() - 0.1, x.max() + 0.1, step),\n",
    "        np.arange(y.min() - 0.1, y.max() + 0.1, step))\n",
    "    mesh_predict = clf.predict(np.c_[xx.ravel(), yy.ravel()])\n",
    "    mesh_predict = mesh_predict.reshape(xx.shape)\n",
    "    for i in range(len(colors)):\n",
    "        ax.scatter(x[df.species == values[i]], y[df.species == values[i]], color=colors[i])\n",
    "        ax.set_xlim(x.min() - 0.2, x.max() + 0.2)\n",
    "        ax.set_ylim(y.min() - 0.2, y.max() + 0.2)\n",
    "    ax.pcolormesh(xx, yy, mesh_predict,\n",
    "        cmap=ListedColormap(sns.color_palette()[:3]), alpha=0.2)\n",
    "    ax.set_title('depth = {}'.format(clf.max_depth))\n",
    "\n",
    "fig, ax = plt.subplots(1, 4, sharey=True, figsize=(15, 4), squeeze=True)\n",
    "fig.tight_layout()\n",
    "fig.suptitle('Decision trees with varying depths', y=1.05)\n",
    "\n",
    "for idx in range(0, 3):\n",
    "    clf = tree.DecisionTreeClassifier(max_depth=idx + 1, random_state=0).fit(X, df.species)\n",
    "    model = clf.fit(X, df.species)\n",
    "    mesh_plot(df['petal length'], df['petal width'], df.species, ax[idx], clf)\n",
    "idx = idx + 1\n",
    "clf = tree.DecisionTreeClassifier(random_state=0)\n",
    "model = clf.fit(X, df.species)\n",
    "mesh_plot(df['petal length'], df['petal width'], df.species, ax[idx], clf)"
   ]
  },
  {
   "cell_type": "markdown",
   "metadata": {},
   "source": [
    "On constate que plus la profondeur de l'arbre est grande, plus la forme de la séparation est complexe.\n",
    "\n",
    "On peut afficher les arbres correspondants..."
   ]
  },
  {
   "cell_type": "code",
   "execution_count": null,
   "metadata": {},
   "outputs": [],
   "source": [
    "clf = tree.DecisionTreeClassifier(max_depth=1, random_state=0)\n",
    "X = df[['petal length', 'petal width', 'sepal length', 'sepal width']]\n",
    "model = clf.fit(X, df.species)\n",
    "plot_tree(model)"
   ]
  },
  {
   "cell_type": "code",
   "execution_count": null,
   "metadata": {},
   "outputs": [],
   "source": [
    "clf = tree.DecisionTreeClassifier(max_depth=2, random_state=0)\n",
    "model = clf.fit(X, df.species)\n",
    "plot_tree(model)"
   ]
  },
  {
   "cell_type": "code",
   "execution_count": null,
   "metadata": {},
   "outputs": [],
   "source": [
    "clf = tree.DecisionTreeClassifier(max_depth=3, random_state=0)\n",
    "model = clf.fit(X, df.species)\n",
    "plot_tree(model)"
   ]
  },
  {
   "cell_type": "markdown",
   "metadata": {},
   "source": [
    "On peut relancer le classifieur sans lui indiquer de profondeur maximale, ce qui lui permet d'aller jusqu'au bout du processus de séparation."
   ]
  },
  {
   "cell_type": "code",
   "execution_count": null,
   "metadata": {},
   "outputs": [],
   "source": [
    "fig = plt.figure(figsize=(15, 10))\n",
    "fig.tight_layout()\n",
    "clf = tree.DecisionTreeClassifier(random_state=0)\n",
    "model = clf.fit(X, df.species)\n",
    "plot_tree(model)"
   ]
  },
  {
   "cell_type": "markdown",
   "metadata": {},
   "source": [
    "### Arbres de décision avec Digits\n",
    "\n",
    "On reprend l'exemple précédent aux données Digit.\n",
    "Il peut être intéressant de voir l'influence de certains paramètres de l'algorithme sur le résultat (on peut trouver la liste complète des paramètres sur le sit de Scikit-Learn, ici pour ce classifieur : https://scikit-learn.org/stable/modules/generated/sklearn.tree.DecisionTreeClassifier.html).\n",
    "Notamment la profondeur de l'arbre, que l'on peut faire varier. Puis on représente les accuracies correspondantes graphiquement.\n",
    "On peut également comparer les performances du classifieur obtenues avec les données d'apprentissage avec celles obtenues sur les données de test.\n"
   ]
  },
  {
   "cell_type": "code",
   "execution_count": 5,
   "metadata": {},
   "outputs": [
    {
     "data": {
      "text/plain": [
       "<matplotlib.legend.Legend at 0x7fee7153fd90>"
      ]
     },
     "execution_count": 5,
     "metadata": {},
     "output_type": "execute_result"
    },
    {
     "data": {
      "image/png": "[encoded data removed]",
      "text/plain": [
       "<Figure size 640x480 with 1 Axes>"
      ]
     },
     "metadata": {},
     "output_type": "display_data"
    }
   ],
   "source": [
    "from sklearn import datasets\n",
    "from sklearn.model_selection import train_test_split\n",
    "import matplotlib.pyplot as plt\n",
    "from sklearn.tree import DecisionTreeClassifier        #Decision Tree\n",
    "\n",
    "digits = datasets.load_digits()\n",
    "\n",
    "X_train, X_test, y_train, y_test = train_test_split(digits.data, digits.target, test_size=0.5, random_state=2)\n",
    "\n",
    "training_accuracies = []\n",
    "test_accuracies = []\n",
    "\n",
    "max_dep = range(1,20)\n",
    "\n",
    "for md in max_dep:\n",
    "    model = DecisionTreeClassifier(max_depth=md,random_state=0)\n",
    "    model.fit(X_train,y_train)\n",
    "    training_accuracy = model.score(X_train, y_train)\n",
    "    test_accuracy = model.score(X_test, y_test)\n",
    "    training_accuracies.append(training_accuracy)\n",
    "    test_accuracies.append(test_accuracy)\n",
    " \n",
    "plt.plot(max_dep, training_accuracies, label='Accuracy of the training set')\n",
    "plt.plot(max_dep, test_accuracies, label='Accuracy of the test set')\n",
    "plt.ylabel('Accuracy')\n",
    "plt.xlabel('Max Depth')\n",
    "plt.legend()"
   ]
  },
  {
   "cell_type": "markdown",
   "metadata": {},
   "source": [
    "On constate un phénomène d'apprentissage par coeur (\"overfitting\"), puisque les données d'apprentissage sont bien classées à 100%.\n",
    "\n",
    "Si on visualise l'arbre obtenu, évidemment il est beaucoup plus profond que celui obtenu pour Iris..."
   ]
  },
  {
   "cell_type": "code",
   "execution_count": null,
   "metadata": {},
   "outputs": [],
   "source": [
    "from sklearn.tree import plot_tree\n",
    "\n",
    "# Prepare a plot figure with set size.\n",
    "plt.figure(figsize = (20,10))\n",
    "# Plot the decision tree, showing the decisive values and the improvements in Gini impurity along the way.\n",
    "plot_tree(model, filled=True)\n",
    "# Display the tree plot figure.\n",
    "plt.show()"
   ]
  },
  {
   "cell_type": "markdown",
   "metadata": {},
   "source": [
    "### Arbres de décision avec MNIST"
   ]
  },
  {
   "cell_type": "code",
   "execution_count": null,
   "metadata": {},
   "outputs": [],
   "source": [
    "from sklearn import datasets\n",
    "from sklearn import metrics\n",
    "from sklearn.neighbors import KNeighborsClassifier\n",
    "from sklearn.tree import DecisionTreeClassifier        #Decision Tree\n",
    "from sklearn import svm\n",
    "from sklearn.model_selection import train_test_split\n",
    "import pandas as pd\n",
    "import matplotlib.pyplot as plt\n",
    "import numpy as np\n",
    "\n",
    "print(\"Loading dataset...\")\n",
    "train = pd.read_csv('data/MNIST/mnist_train.csv')\n",
    "test = pd.read_csv('data/MNIST/mnist_test.csv')\n",
    "print(\"ok\")\n",
    "\n",
    "trainX = train.values[:60000, 1:]\n",
    "trainy = train.values[:60000, 0]\n",
    "testX = test.values[:10000, 1:]\n",
    "testy = test.values[:10000, 0]\n",
    "'''\n",
    "trainX = train.values[:, 1:]\n",
    "trainy = train.values[:, 0]\n",
    "testX = test.values[:, 1:]\n",
    "testy = test.values[:, 0]\n",
    "'''\n",
    "model = DecisionTreeClassifier()\n",
    "print(\"adaptation classifieur...\")\n",
    "model.fit(trainX, trainy)\n",
    "\n",
    "print(model.score(trainX, trainy))\n",
    "print(model.score(testX, testy))"
   ]
  },
  {
   "cell_type": "markdown",
   "metadata": {},
   "source": [
    "On peut afficher l'arbre correspondant, mais ça prend un peu de temps..."
   ]
  },
  {
   "cell_type": "code",
   "execution_count": null,
   "metadata": {},
   "outputs": [],
   "source": [
    "from sklearn.tree import plot_tree\n",
    "\n",
    "# Prepare a plot figure with set size.\n",
    "plt.figure(figsize = (20,10))\n",
    "# Plot the decision tree, showing the decisive values and the improvements in Gini impurity along the way.\n",
    "print(\"affichage de l'arbre, un peu de patience...\")\n",
    "plot_tree(model, filled=True)\n",
    "# Display the tree plot figure.\n",
    "plt.show()"
   ]
  },
  {
   "cell_type": "markdown",
   "metadata": {},
   "source": [
    "## Adaboost\n",
    "\n",
    "Il est intéressant de commencer par un problème \"jouet\" en 2 dimensions, ce qui permet de visualiser les résultats du partitionnement de l'espace d'entrée, et de rattacher ce résultat avec celui de l'exemple du cours.\n",
    "\n",
    "### Exemple jouet en dimension 2\n",
    "\n",
    "Pour cet exemple en dimension 2, on peut utiliser une fonction d'affichage graphique, disponible ici : https://geoffruddock.com/adaboost-from-scratch-in-python/.  \n",
    "Elle est recopée dans la cellule suivante :"
   ]
  },
  {
   "cell_type": "code",
   "execution_count": null,
   "metadata": {},
   "outputs": [],
   "source": [
    "#récupéré sur https://geoffruddock.com/adaboost-from-scratch-in-python/\n",
    "from typing import Optional\n",
    "import numpy as np\n",
    "import matplotlib.pyplot as plt\n",
    "import matplotlib as mpl\n",
    "\n",
    "def plot_adaboost(X: np.ndarray,\n",
    "                  y: np.ndarray,\n",
    "                  clf=None,\n",
    "                  sample_weights: Optional[np.ndarray] = None,\n",
    "                  annotate: bool = False,\n",
    "                  ax: Optional[mpl.axes.Axes] = None) -> None:\n",
    "    \"\"\" Plot ± samples in 2D, optionally with decision boundary \"\"\"\n",
    "\n",
    "    assert set(y) == {-1, 1}, 'Expecting response labels to be ±1'\n",
    "\n",
    "    if not ax:\n",
    "        fig, ax = plt.subplots(figsize=(5, 5), dpi=100)\n",
    "        fig.set_facecolor('white')\n",
    "\n",
    "    pad = 1\n",
    "    x_min, x_max = X[:, 0].min() - pad, X[:, 0].max() + pad\n",
    "    y_min, y_max = X[:, 1].min() - pad, X[:, 1].max() + pad\n",
    "\n",
    "    if sample_weights is not None:\n",
    "        sizes = np.array(sample_weights) * X.shape[0] * 100\n",
    "    else:\n",
    "        sizes = np.ones(shape=X.shape[0]) * 100\n",
    "\n",
    "    X_pos = X[y == 1]\n",
    "    sizes_pos = sizes[y == 1]\n",
    "    ax.scatter(*X_pos.T, s=sizes_pos, marker='+', color='red')\n",
    "\n",
    "    X_neg = X[y == -1]\n",
    "    sizes_neg = sizes[y == -1]\n",
    "    ax.scatter(*X_neg.T, s=sizes_neg, marker='.', c='blue')\n",
    "\n",
    "    if clf:\n",
    "        plot_step = 0.01\n",
    "        xx, yy = np.meshgrid(np.arange(x_min, x_max, plot_step),\n",
    "                             np.arange(y_min, y_max, plot_step))\n",
    "\n",
    "        Z = clf.predict(np.c_[xx.ravel(), yy.ravel()])\n",
    "        Z = Z.reshape(xx.shape)\n",
    "        \n",
    "        # If all predictions are positive class, adjust color map acordingly\n",
    "        if list(np.unique(Z)) == [1]:\n",
    "            fill_colors = ['r']\n",
    "        else:\n",
    "            fill_colors = ['b', 'r']\n",
    "\n",
    "        ax.contourf(xx, yy, Z, colors=fill_colors, alpha=0.2)\n",
    "\n",
    "    if annotate:\n",
    "        for i, (x, y) in enumerate(X):\n",
    "            offset = 0.05\n",
    "            ax.annotate(f'$x_{i + 1}$', (x + offset, y - offset))\n",
    "\n",
    "    ax.set_xlim(x_min+0.5, x_max-0.5)\n",
    "    ax.set_ylim(y_min+0.5, y_max-0.5)\n",
    "    ax.set_xlabel('$x_1$')\n",
    "    ax.set_ylabel('$x_2$')"
   ]
  },
  {
   "cell_type": "markdown",
   "metadata": {},
   "source": [
    "On génère d'abord un dataset-jouet (=tout petit dataset) :"
   ]
  },
  {
   "cell_type": "code",
   "execution_count": null,
   "metadata": {},
   "outputs": [],
   "source": [
    "import numpy as np\n",
    "from sklearn.datasets import make_gaussian_quantiles\n",
    "from sklearn.model_selection import train_test_split\n",
    "\n",
    "def make_toy_dataset(n: int = 100, random_seed: int = None):\n",
    "    \"\"\" Generate a toy dataset for evaluating AdaBoost classifiers \"\"\"\n",
    "    \n",
    "    n_per_class = int(n/2)\n",
    "    \n",
    "    if random_seed:\n",
    "        np.random.seed(random_seed)\n",
    "\n",
    "    X, y = make_gaussian_quantiles(n_samples=n, n_features=2, n_classes=2)\n",
    "    \n",
    "    return X, y*2-1\n",
    "\n",
    "X, y = make_toy_dataset(n=10, random_seed=44)\n",
    "plot_adaboost(X, y)"
   ]
  },
  {
   "cell_type": "markdown",
   "metadata": {},
   "source": [
    "Puis on crée le classifieur et on lui applique ce dataset :"
   ]
  },
  {
   "cell_type": "code",
   "execution_count": null,
   "metadata": {
    "scrolled": true
   },
   "outputs": [],
   "source": [
    "from sklearn.ensemble import AdaBoostClassifier\n",
    "\n",
    "bench = AdaBoostClassifier(n_estimators=10, algorithm='SAMME').fit(X, y)\n",
    "plot_adaboost(X, y, bench)\n",
    "\n",
    "train_err = (bench.predict(X) != y).mean()\n",
    "print(f'Train error: {train_err:.1%}')"
   ]
  },
  {
   "cell_type": "markdown",
   "metadata": {},
   "source": [
    "On peut constater que les frontières de séparation obtenues permettent de classer correctement tous les exemples."
   ]
  },
  {
   "cell_type": "markdown",
   "metadata": {},
   "source": [
    "### Adaboost avec Iris"
   ]
  },
  {
   "cell_type": "code",
   "execution_count": null,
   "metadata": {},
   "outputs": [],
   "source": [
    "from sklearn.ensemble import AdaBoostClassifier\n",
    "from sklearn import datasets\n",
    "from sklearn.model_selection import train_test_split\n",
    "from sklearn.metrics import accuracy_score\n",
    "\n",
    "iris = datasets.load_iris()\n",
    "X = iris.data\n",
    "y = iris.target\n",
    "\n",
    "X_train, X_test, y_train, y_test = train_test_split(X, y, test_size=0.3) # 70% training and 30% test\n",
    "\n",
    "abc = AdaBoostClassifier(n_estimators=50, learning_rate=1)     #creation du classifieur\n",
    "model = abc.fit(X_train, y_train)                              #apprentissage\n",
    "\n",
    "y_pred = model.predict(X_test)                                 #prediction des classes pour les donnees de test\n",
    "\n",
    "accuracy = accuracy_score(y_test, y_pred)                      #calcul precision\n",
    "#accuracy = model.score(X_test, y_test)                        #alternative\n",
    "accuracy = round(accuracy, 2)\n",
    "print(\"Accuracy:\", accuracy)"
   ]
  },
  {
   "cell_type": "markdown",
   "metadata": {},
   "source": [
    "### Adaboost avec MNIST\n",
    "\n",
    "On limite la taille à 1/10e de la taille totale, pour que le traitement ne soit pas trop long."
   ]
  },
  {
   "cell_type": "code",
   "execution_count": null,
   "metadata": {},
   "outputs": [],
   "source": [
    "from sklearn import datasets\n",
    "from sklearn import metrics\n",
    "from sklearn.ensemble import AdaBoostClassifier\n",
    "from sklearn.tree import DecisionTreeClassifier\n",
    "from sklearn.model_selection import train_test_split\n",
    "import pandas as pd\n",
    "import matplotlib.pyplot as plt\n",
    "import numpy as np\n",
    "import time\n",
    "\n",
    "print(\"Loading dataset...\")\n",
    "train = pd.read_csv('data/MNIST/mnist_train.csv')\n",
    "test = pd.read_csv('data/MNIST/mnist_test.csv')\n",
    "print(\"ok\")\n",
    "\n",
    "trainX = train.values[:6000, 1:]    \n",
    "trainy = train.values[:6000, 0]\n",
    "testX = test.values[:1000, 1:]\n",
    "testy = test.values[:1000, 0]\n",
    "'''\n",
    "trainX = train.values[:, 1:]\n",
    "trainy = train.values[:, 0]\n",
    "testX = test.values[:, 1:]\n",
    "testy = test.values[:, 0]\n",
    "'''\n",
    "\n",
    "model = AdaBoostClassifier(base_estimator=DecisionTreeClassifier(max_depth=10), n_estimators=50, learning_rate=1)     #creation du classifieur\n",
    "\n",
    "print(\"Apprentissage...\")\n",
    "t0 = time.time()\n",
    "model.fit(trainX, trainy)\n",
    "t1 = time.time()\n",
    "print(\"OK\")\n",
    "print('duree apprentissage : %.1fs' % (t1-t0))\n",
    "\n",
    "print(\"Prediction...\")\n",
    "t0 = time.time()\n",
    "y_pred = model.predict(testX)\n",
    "t1 = time.time()\n",
    "print('duree prédiction : %.1fs' % (t1-t0))\n",
    "accuracy = accuracy_score(testy, y_pred)  #calcul precision\n",
    "print(accuracy)\n",
    "\n",
    "print('Précision sur données d apprentissage : %.2f' % model.score(trainX, trainy))\n",
    "print('Précision sur données de test : %.2f' % model.score(testX, testy))"
   ]
  },
  {
   "cell_type": "markdown",
   "metadata": {},
   "source": [
    "## Adaboost avec GTSRB\n",
    "\n",
    "On applique le classifieur Adaboost sur les données GTSRB, avec les paramètres par défaut.\n",
    "Puis on essaie de déterminer d'autres valeurs de paramètres permettant d'améliorer la précision (accuracy)."
   ]
  },
  {
   "cell_type": "code",
   "execution_count": 49,
   "metadata": {},
   "outputs": [
    {
     "name": "stdout",
     "output_type": "stream",
     "text": [
      "--2022-10-20 09:30:27--  https://sid.erda.dk/public/archives/daaeac0d7ce1152aea9b61d9f1e19370/GTSRB_Final_Training_Images.zip\n",
      "Resolving sid.erda.dk (sid.erda.dk)... 130.225.104.13\n",
      "Connecting to sid.erda.dk (sid.erda.dk)|130.225.104.13|:443... connected.\n",
      "HTTP request sent, awaiting response... 200 OK\n",
      "Length: 276294756 (263M) [application/zip]\n",
      "Saving to: ‘GTSRB_Final_Training_Images.zip’\n",
      "\n",
      "GTSRB_Final_Trainin 100%[===================>] 263.50M  16.9MB/s    in 13s     \n",
      "\n",
      "2022-10-20 09:30:42 (19.6 MB/s) - ‘GTSRB_Final_Training_Images.zip’ saved [276294756/276294756]\n",
      "\n"
     ]
    }
   ],
   "source": [
    "!wget https://sid.erda.dk/public/archives/daaeac0d7ce1152aea9b61d9f1e19370/GTSRB_Final_Training_Images.zip"
   ]
  },
  {
   "cell_type": "code",
   "execution_count": null,
   "metadata": {},
   "outputs": [
    {
     "name": "stdout",
     "output_type": "stream",
     "text": [
      "replace GTSRB/Final_Training/Images/00000/00000_00000.ppm? [y]es, [n]o, [A]ll, [N]one, [r]ename: "
     ]
    }
   ],
   "source": [
    "!unzip -qq GTSRB_Final_Training_Images.zip"
   ]
  },
  {
   "cell_type": "code",
   "execution_count": 1,
   "metadata": {},
   "outputs": [
    {
     "name": "stdout",
     "output_type": "stream",
     "text": [
      "Load data...\n",
      "chargement répertoire data/GTSRB/Final_Training/Images//00000/\n",
      "chargement répertoire data/GTSRB/Final_Training/Images//00001/\n",
      "chargement répertoire data/GTSRB/Final_Training/Images//00002/\n",
      "chargement répertoire data/GTSRB/Final_Training/Images//00003/\n",
      "chargement répertoire data/GTSRB/Final_Training/Images//00004/\n",
      "chargement répertoire data/GTSRB/Final_Training/Images//00005/\n",
      "chargement répertoire data/GTSRB/Final_Training/Images//00006/\n",
      "chargement répertoire data/GTSRB/Final_Training/Images//00007/\n",
      "chargement répertoire data/GTSRB/Final_Training/Images//00008/\n",
      "chargement répertoire data/GTSRB/Final_Training/Images//00009/\n",
      "chargement répertoire data/GTSRB/Final_Training/Images//00010/\n",
      "chargement répertoire data/GTSRB/Final_Training/Images//00011/\n",
      "chargement répertoire data/GTSRB/Final_Training/Images//00012/\n",
      "chargement répertoire data/GTSRB/Final_Training/Images//00013/\n",
      "chargement répertoire data/GTSRB/Final_Training/Images//00014/\n",
      "chargement répertoire data/GTSRB/Final_Training/Images//00015/\n",
      "chargement répertoire data/GTSRB/Final_Training/Images//00016/\n",
      "chargement répertoire data/GTSRB/Final_Training/Images//00017/\n",
      "chargement répertoire data/GTSRB/Final_Training/Images//00018/\n",
      "chargement répertoire data/GTSRB/Final_Training/Images//00019/\n",
      "chargement répertoire data/GTSRB/Final_Training/Images//00020/\n",
      "chargement répertoire data/GTSRB/Final_Training/Images//00021/\n",
      "chargement répertoire data/GTSRB/Final_Training/Images//00022/\n",
      "chargement répertoire data/GTSRB/Final_Training/Images//00023/\n",
      "chargement répertoire data/GTSRB/Final_Training/Images//00024/\n",
      "chargement répertoire data/GTSRB/Final_Training/Images//00025/\n",
      "chargement répertoire data/GTSRB/Final_Training/Images//00026/\n",
      "chargement répertoire data/GTSRB/Final_Training/Images//00027/\n",
      "chargement répertoire data/GTSRB/Final_Training/Images//00028/\n",
      "chargement répertoire data/GTSRB/Final_Training/Images//00029/\n",
      "chargement répertoire data/GTSRB/Final_Training/Images//00030/\n",
      "chargement répertoire data/GTSRB/Final_Training/Images//00031/\n",
      "chargement répertoire data/GTSRB/Final_Training/Images//00032/\n",
      "chargement répertoire data/GTSRB/Final_Training/Images//00033/\n",
      "chargement répertoire data/GTSRB/Final_Training/Images//00034/\n",
      "chargement répertoire data/GTSRB/Final_Training/Images//00035/\n",
      "chargement répertoire data/GTSRB/Final_Training/Images//00036/\n",
      "chargement répertoire data/GTSRB/Final_Training/Images//00037/\n",
      "chargement répertoire data/GTSRB/Final_Training/Images//00038/\n",
      "chargement répertoire data/GTSRB/Final_Training/Images//00039/\n",
      "chargement répertoire data/GTSRB/Final_Training/Images//00040/\n",
      "chargement répertoire data/GTSRB/Final_Training/Images//00041/\n",
      "chargement répertoire data/GTSRB/Final_Training/Images//00042/\n",
      "OK\n",
      "(8643, 1024)\n",
      "(8643,)\n",
      "Apprentissage...\n",
      "OK\n",
      "duree apprentissage : 168.3s\n",
      "Prediction...\n",
      "duree prédiction : 0.1s\n",
      "Accuracy :  0.593\n",
      "Précision sur données d apprentissage : 0.94\n",
      "Précision sur données de test : 0.59\n"
     ]
    }
   ],
   "source": [
    "import os\n",
    "import glob\n",
    "import cv2\n",
    "import numpy as np\n",
    "from sklearn.model_selection import train_test_split\n",
    "from sklearn import datasets, metrics\n",
    "from sklearn.ensemble import AdaBoostClassifier\n",
    "from sklearn.tree import DecisionTreeClassifier\n",
    "from sklearn.metrics import accuracy_score\n",
    "import time\n",
    "\n",
    "data_path = 'data/GTSRB/Final_Training/Images/'\n",
    "\n",
    "nb_classes = 43\n",
    "rows, cols = 32, 32       #nouvelle taille des images\n",
    "\n",
    "def load_GTSRB():\n",
    "    print(\"Load data...\")\n",
    "    data = []\n",
    "    labels = []\n",
    "    for i in range(nb_classes):\n",
    "        image_path = data_path + '/' + format(i, '05d') + '/'\n",
    "        print(\"chargement répertoire\", image_path)\n",
    "        cpt = 0\n",
    "        for img in glob.glob(image_path + '*.ppm'):\n",
    "            image = cv2.imread(img)\n",
    "            image = cv2.cvtColor(image, cv2.COLOR_RGB2GRAY)\n",
    "            #image = (image / 255.0)                            #rescale\n",
    "            image = cv2.resize(image, (rows, cols))            #resize\n",
    "            image = np.array(image, 'f')\n",
    "            image = image.reshape(rows*cols)                   #data flattening (aplatissement) \n",
    "            data.append(image)\n",
    "            label = int(image_path.split('/')[-2])\n",
    "            labels.append(label)\n",
    "            cpt = cpt+1\n",
    "            if(cpt > 200):\n",
    "                break\n",
    "    print('OK')\n",
    "    return (data, labels)\n",
    "\n",
    "X, y = load_GTSRB()\n",
    "print(np.shape(X))\n",
    "print(np.shape(y))\n",
    "\n",
    "X_train, X_test, y_train, y_test = train_test_split(X, y, test_size=0.25)\n",
    "\n",
    "classifier = AdaBoostClassifier(base_estimator=DecisionTreeClassifier(max_depth=10), n_estimators=50, learning_rate=1)     #creation du classifieur\n",
    "\n",
    "print(\"Apprentissage...\")\n",
    "t0 = time.time()\n",
    "classifier.fit(X_train, y_train)\n",
    "t1 = time.time()\n",
    "print(\"OK\")\n",
    "print('duree apprentissage : %.1fs' % (t1-t0))\n",
    "\n",
    "print(\"Prediction...\")\n",
    "t0 = time.time()\n",
    "y_pred = classifier.predict(X_test)\n",
    "t1 = time.time()\n",
    "print('duree prédiction : %.1fs' % (t1-t0))\n",
    "accuracy = accuracy_score(y_test, y_pred)  #calcul precision\n",
    "accuracy = round(accuracy, 3)\n",
    "print('Accuracy : ', accuracy)\n",
    "\n",
    "print('Précision sur données d apprentissage : %.2f' % classifier.score(X_train, y_train))\n",
    "print('Précision sur données de test : %.2f' % classifier.score(X_test, y_test))"
   ]
  },
  {
   "cell_type": "markdown",
   "metadata": {},
   "source": [
    "Le résultat n'est pas très bon. Il faudrait passer un peu de temps à régler certains paramètres de l'algorithme pour espérer les améliorer."
   ]
  },
  {
   "cell_type": "markdown",
   "metadata": {},
   "source": [
    "## SVM (Support Vector Machine)\n",
    "\n",
    "### SVM avec données Iris"
   ]
  },
  {
   "cell_type": "code",
   "execution_count": 2,
   "metadata": {},
   "outputs": [
    {
     "name": "stdout",
     "output_type": "stream",
     "text": [
      "Accuracy :  1.0\n"
     ]
    }
   ],
   "source": [
    "from sklearn import datasets\n",
    "from sklearn.model_selection import train_test_split\n",
    "from sklearn.metrics import accuracy_score\n",
    "from sklearn import svm\n",
    "\n",
    "iris = datasets.load_iris()\n",
    "X = iris.data\n",
    "y = iris.target\n",
    "\n",
    "X_train, X_test, y_train, y_test = train_test_split(X, y, test_size=0.3) # 70% training and 30% test\n",
    "\n",
    "classifier = svm.SVC()                     #creation du classifieur\n",
    "classifier.fit(X_train, y_train)           #adaptation des parametres du classifieur (donnees d'appr.)\n",
    "\n",
    "y_pred = classifier.predict(X_test)        #calcul des sorties du classifieur (donnees test)\n",
    "accuracy = accuracy_score(y_test, y_pred)  #calcul precision\n",
    "\n",
    "print('Accuracy : ', round(accuracy, 3))                  #taux de reconnaissance"
   ]
  },
  {
   "cell_type": "markdown",
   "metadata": {},
   "source": [
    "96 à 100% des données de test sont classées correctement.     \n",
    "Mais il faut bien voir qu'elles sont en nombre très réduit (30% de 150 exemples ça fait 50 ici, pour les 3 classes), donc le résultat n'est pas très significatif sur le plan statistique..."
   ]
  },
  {
   "cell_type": "markdown",
   "metadata": {},
   "source": [
    "### SVM avec données MNIST"
   ]
  },
  {
   "cell_type": "code",
   "execution_count": 3,
   "metadata": {
    "scrolled": true
   },
   "outputs": [
    {
     "name": "stdout",
     "output_type": "stream",
     "text": [
      "chargement des données\n",
      "duree chargement : 1.4s\n",
      "Apprentissage...\n",
      "OK\n",
      "duree apprentissage : 20.7s\n",
      "Prediction...\n",
      "duree prédiction : 29.0s\n",
      "Calcul taux de reconnaissance...\n",
      "0.976\n"
     ]
    }
   ],
   "source": [
    "import matplotlib.pyplot as plt\n",
    "import numpy as np\n",
    "import pandas as pd\n",
    "from sklearn import datasets, svm, metrics\n",
    "import time\n",
    "\n",
    "print('chargement des données')\n",
    "t0 = time.time()\n",
    "train=pd.read_csv('data/MNIST/mnist_train.csv')\n",
    "test=pd.read_csv('data/MNIST/mnist_test.csv')\n",
    "t1 = time.time()\n",
    "print('duree chargement : %.1fs' % (t1-t0))\n",
    "\n",
    "train_num=20000\n",
    "test_num=10000\n",
    "X_train=train.iloc[:train_num,1:].values\n",
    "y_train=train.iloc[:train_num,0].values\n",
    "X_test=test.iloc[:test_num,1:].values\n",
    "y_test=test.iloc[:test_num,0].values\n",
    "\n",
    "#normalisation des données\n",
    "X_train = X_train.astype('float32')/255\n",
    "X_test = X_test.astype('float32')/255\n",
    "\n",
    "classifier = svm.SVC(C=300, kernel='rbf')\n",
    "\n",
    "print(\"Apprentissage...\")\n",
    "t0 = time.time()\n",
    "classifier.fit(X_train, y_train)\n",
    "t1 = time.time()\n",
    "print(\"OK\")\n",
    "print('duree apprentissage : %.1fs' % (t1-t0))\n",
    "\n",
    "print(\"Prediction...\")\n",
    "t0 = time.time()\n",
    "y_pred = classifier.predict(X_test)\n",
    "t1 = time.time()\n",
    "print('duree prédiction : %.1fs' % (t1-t0))\n",
    "\n",
    "print(\"Calcul taux de reconnaissance...\")\n",
    "accuracy = accuracy_score(y_test, y_pred)  #calcul precision\n",
    "accuracy = round(accuracy, 3)\n",
    "print(accuracy)"
   ]
  },
  {
   "cell_type": "markdown",
   "metadata": {},
   "source": [
    "La précision obtenue est de 97,6%, ce qui est très bon."
   ]
  },
  {
   "cell_type": "markdown",
   "metadata": {},
   "source": [
    "### SVM avec données GTSRB (Exercice 2.3)\n",
    "\n",
    "Appliquer l'algorithme SVM aux données GTSRB.\n",
    "Avec les paramètres par défaut de la fonction SVC, et 30% des données pour le test, on obtient une précision (accuracy) de 50% environ.\n",
    "Essayer de trouver un paramètre C et/ou noyau (kernel) permettant d'améliorer ce résultat.  \n",
    "Attention l'apprentissage et le test peuvent prendre du temps (plusieurs minutes voire dizaines de minutes).  \n",
    "On peut limiter le nombre d'exemples par classe pour diminuer cette durée."
   ]
  },
  {
   "cell_type": "code",
   "execution_count": 4,
   "metadata": {
    "scrolled": true
   },
   "outputs": [
    {
     "name": "stdout",
     "output_type": "stream",
     "text": [
      "chargement des données\n",
      "Load data...\n",
      "chargement répertoire data/GTSRB/Final_Training/Images//00000/\n",
      "chargement répertoire data/GTSRB/Final_Training/Images//00001/\n",
      "chargement répertoire data/GTSRB/Final_Training/Images//00002/\n",
      "chargement répertoire data/GTSRB/Final_Training/Images//00003/\n",
      "chargement répertoire data/GTSRB/Final_Training/Images//00004/\n",
      "chargement répertoire data/GTSRB/Final_Training/Images//00005/\n",
      "chargement répertoire data/GTSRB/Final_Training/Images//00006/\n",
      "chargement répertoire data/GTSRB/Final_Training/Images//00007/\n",
      "chargement répertoire data/GTSRB/Final_Training/Images//00008/\n",
      "chargement répertoire data/GTSRB/Final_Training/Images//00009/\n",
      "chargement répertoire data/GTSRB/Final_Training/Images//00010/\n",
      "chargement répertoire data/GTSRB/Final_Training/Images//00011/\n",
      "chargement répertoire data/GTSRB/Final_Training/Images//00012/\n",
      "chargement répertoire data/GTSRB/Final_Training/Images//00013/\n",
      "chargement répertoire data/GTSRB/Final_Training/Images//00014/\n",
      "chargement répertoire data/GTSRB/Final_Training/Images//00015/\n",
      "chargement répertoire data/GTSRB/Final_Training/Images//00016/\n",
      "chargement répertoire data/GTSRB/Final_Training/Images//00017/\n",
      "chargement répertoire data/GTSRB/Final_Training/Images//00018/\n",
      "chargement répertoire data/GTSRB/Final_Training/Images//00019/\n",
      "chargement répertoire data/GTSRB/Final_Training/Images//00020/\n",
      "chargement répertoire data/GTSRB/Final_Training/Images//00021/\n",
      "chargement répertoire data/GTSRB/Final_Training/Images//00022/\n",
      "chargement répertoire data/GTSRB/Final_Training/Images//00023/\n",
      "chargement répertoire data/GTSRB/Final_Training/Images//00024/\n",
      "chargement répertoire data/GTSRB/Final_Training/Images//00025/\n",
      "chargement répertoire data/GTSRB/Final_Training/Images//00026/\n",
      "chargement répertoire data/GTSRB/Final_Training/Images//00027/\n",
      "chargement répertoire data/GTSRB/Final_Training/Images//00028/\n",
      "chargement répertoire data/GTSRB/Final_Training/Images//00029/\n",
      "chargement répertoire data/GTSRB/Final_Training/Images//00030/\n",
      "chargement répertoire data/GTSRB/Final_Training/Images//00031/\n",
      "chargement répertoire data/GTSRB/Final_Training/Images//00032/\n",
      "chargement répertoire data/GTSRB/Final_Training/Images//00033/\n",
      "chargement répertoire data/GTSRB/Final_Training/Images//00034/\n",
      "chargement répertoire data/GTSRB/Final_Training/Images//00035/\n",
      "chargement répertoire data/GTSRB/Final_Training/Images//00036/\n",
      "chargement répertoire data/GTSRB/Final_Training/Images//00037/\n",
      "chargement répertoire data/GTSRB/Final_Training/Images//00038/\n",
      "chargement répertoire data/GTSRB/Final_Training/Images//00039/\n",
      "chargement répertoire data/GTSRB/Final_Training/Images//00040/\n",
      "chargement répertoire data/GTSRB/Final_Training/Images//00041/\n",
      "chargement répertoire data/GTSRB/Final_Training/Images//00042/\n",
      "OK\n",
      "(8643, 1024)\n",
      "(8643,)\n",
      "C= 300\n",
      "Apprentissage...\n",
      "OK\n",
      "duree apprentissage : 7.7s\n",
      "Prediction...\n",
      "duree prédiction : 10.0s\n",
      "Calcul taux de reconnaissance...\n",
      "C= 600\n",
      "Apprentissage...\n",
      "OK\n",
      "duree apprentissage : 7.0s\n",
      "Prediction...\n",
      "duree prédiction : 9.3s\n",
      "Calcul taux de reconnaissance...\n",
      "C= 900\n",
      "Apprentissage...\n",
      "OK\n",
      "duree apprentissage : 8.1s\n",
      "Prediction...\n",
      "duree prédiction : 8.4s\n",
      "Calcul taux de reconnaissance...\n",
      "C= 1200\n",
      "Apprentissage...\n",
      "OK\n",
      "duree apprentissage : 6.9s\n",
      "Prediction...\n",
      "duree prédiction : 8.4s\n",
      "Calcul taux de reconnaissance...\n",
      "C= 1500\n",
      "Apprentissage...\n",
      "OK\n",
      "duree apprentissage : 8.1s\n",
      "Prediction...\n",
      "duree prédiction : 8.4s\n",
      "Calcul taux de reconnaissance...\n",
      "C= 1800\n",
      "Apprentissage...\n",
      "OK\n",
      "duree apprentissage : 7.0s\n",
      "Prediction...\n",
      "duree prédiction : 8.3s\n",
      "Calcul taux de reconnaissance...\n",
      "C= 2100\n",
      "Apprentissage...\n",
      "OK\n",
      "duree apprentissage : 6.9s\n",
      "Prediction...\n",
      "duree prédiction : 8.8s\n",
      "Calcul taux de reconnaissance...\n",
      "C= 2400\n",
      "Apprentissage...\n",
      "OK\n",
      "duree apprentissage : 7.3s\n",
      "Prediction...\n",
      "duree prédiction : 7.8s\n",
      "Calcul taux de reconnaissance...\n",
      "C= 2700\n",
      "Apprentissage...\n",
      "OK\n",
      "duree apprentissage : 7.7s\n",
      "Prediction...\n",
      "duree prédiction : 8.5s\n",
      "Calcul taux de reconnaissance...\n",
      "C= 3000\n",
      "Apprentissage...\n",
      "OK\n",
      "duree apprentissage : 6.9s\n",
      "Prediction...\n",
      "duree prédiction : 8.6s\n",
      "Calcul taux de reconnaissance...\n",
      "C= 3300\n",
      "Apprentissage...\n",
      "OK\n",
      "duree apprentissage : 6.9s\n",
      "Prediction...\n",
      "duree prédiction : 9.5s\n",
      "Calcul taux de reconnaissance...\n",
      "C= 3600\n",
      "Apprentissage...\n",
      "OK\n",
      "duree apprentissage : 6.5s\n",
      "Prediction...\n",
      "duree prédiction : 7.8s\n",
      "Calcul taux de reconnaissance...\n",
      "C= 3900\n",
      "Apprentissage...\n",
      "OK\n",
      "duree apprentissage : 6.6s\n",
      "Prediction...\n",
      "duree prédiction : 7.7s\n",
      "Calcul taux de reconnaissance...\n",
      "C= 4200\n",
      "Apprentissage...\n",
      "OK\n",
      "duree apprentissage : 6.6s\n",
      "Prediction...\n",
      "duree prédiction : 8.5s\n",
      "Calcul taux de reconnaissance...\n",
      "C= 4500\n",
      "Apprentissage...\n",
      "OK\n",
      "duree apprentissage : 7.7s\n",
      "Prediction...\n",
      "duree prédiction : 7.8s\n",
      "Calcul taux de reconnaissance...\n",
      "C= 4800\n",
      "Apprentissage...\n",
      "OK\n",
      "duree apprentissage : 6.6s\n",
      "Prediction...\n",
      "duree prédiction : 8.2s\n",
      "Calcul taux de reconnaissance...\n",
      "C= 5100\n",
      "Apprentissage...\n",
      "OK\n",
      "duree apprentissage : 7.5s\n",
      "Prediction...\n",
      "duree prédiction : 8.2s\n",
      "Calcul taux de reconnaissance...\n",
      "C= 5400\n",
      "Apprentissage...\n",
      "OK\n",
      "duree apprentissage : 6.9s\n",
      "Prediction...\n",
      "duree prédiction : 8.4s\n",
      "Calcul taux de reconnaissance...\n",
      "C= 5700\n",
      "Apprentissage...\n",
      "OK\n",
      "duree apprentissage : 6.8s\n",
      "Prediction...\n",
      "duree prédiction : 8.2s\n",
      "Calcul taux de reconnaissance...\n",
      "0.886\n"
     ]
    },
    {
     "data": {
      "text/plain": [
       "<matplotlib.legend.Legend at 0x7f920a94ef50>"
      ]
     },
     "execution_count": 4,
     "metadata": {},
     "output_type": "execute_result"
    },
    {
     "data": {
      "image/png": "[encoded data removed]",
      "text/plain": [
       "<Figure size 640x480 with 1 Axes>"
      ]
     },
     "metadata": {},
     "output_type": "display_data"
    }
   ],
   "source": [
    "import matplotlib.pyplot as plt\n",
    "import numpy as np\n",
    "import pandas as pd\n",
    "from sklearn import datasets, svm, metrics\n",
    "import time\n",
    "\n",
    "print('chargement des données')\n",
    "data_path = 'data/GTSRB/Final_Training/Images/'\n",
    "\n",
    "nb_classes = 43\n",
    "rows, cols = 32, 32       #nouvelle taille des images\n",
    "\n",
    "def load_GTSRB():\n",
    "    print(\"Load data...\")\n",
    "    data = []\n",
    "    labels = []\n",
    "    for i in range(nb_classes):\n",
    "        image_path = data_path + '/' + format(i, '05d') + '/'\n",
    "        print(\"chargement répertoire\", image_path)\n",
    "        cpt = 0\n",
    "        for img in glob.glob(image_path + '*.ppm'):\n",
    "            image = cv2.imread(img)\n",
    "            image = cv2.cvtColor(image, cv2.COLOR_RGB2GRAY)\n",
    "            #image = (image / 255.0)                            #rescale\n",
    "            image = cv2.resize(image, (rows, cols))            #resize\n",
    "            image = np.array(image, 'f')\n",
    "            image = image.reshape(rows*cols)                   #data flattening (aplatissement) \n",
    "            data.append(image)\n",
    "            label = int(image_path.split('/')[-2])\n",
    "            labels.append(label)\n",
    "            cpt = cpt+1\n",
    "            if(cpt > 200):\n",
    "                break\n",
    "    print('OK')\n",
    "    return (data, labels)\n",
    "\n",
    "X, y = load_GTSRB()\n",
    "print(np.shape(X))\n",
    "print(np.shape(y))\n",
    "\n",
    "X_train, X_test, y_train, y_test = train_test_split(X, y, test_size=0.25)\n",
    "\n",
    "C_range= range(300,6000,300)\n",
    "#accuracy =[]\n",
    "accuracies=[]\n",
    "for k in C_range:\n",
    "    print(\"C=\", k)\n",
    "    classifier = svm.SVC(C=k, kernel='rbf')\n",
    "    \n",
    "    print(\"Apprentissage...\")\n",
    "    t0 = time.time()\n",
    "    classifier.fit(X_train, y_train)\n",
    "    t1 = time.time()\n",
    "    print(\"OK\")\n",
    "    print('duree apprentissage : %.1fs' % (t1-t0))\n",
    "\n",
    "    print(\"Prediction...\")\n",
    "    t0 = time.time()\n",
    "    y_pred = classifier.predict(X_test)\n",
    "    t1 = time.time()\n",
    "    print('duree prédiction : %.1fs' % (t1-t0))\n",
    "\n",
    "    print(\"Calcul taux de reconnaissance...\")\n",
    "    accuracy = accuracy_score(y_test, y_pred)  #calcul precision\n",
    "    accuracy = round(accuracy, 3)\n",
    "    accuracies.append(accuracy)\n",
    "    \n",
    "print(accuracy)\n",
    "\n",
    "plt.plot(C_range, accuracies,label='Accuracy of the Value C')\n",
    "plt.xlabel('Value of C for svm')\n",
    "plt.ylabel('Testing Accuracy')\n",
    "#plt.show()\n",
    "plt.legend()\n",
    "\n"
   ]
  },
  {
   "cell_type": "code",
   "execution_count": null,
   "metadata": {},
   "outputs": [],
   "source": [
    "\n"
   ]
  },
  {
   "cell_type": "code",
   "execution_count": null,
   "metadata": {},
   "outputs": [],
   "source": []
  },
  {
   "cell_type": "code",
   "execution_count": null,
   "metadata": {},
   "outputs": [],
   "source": []
  }
 ],
 "metadata": {
  "celltoolbar": "Format de la Cellule Texte Brut",
  "kernelspec": {
   "display_name": "Python 3 (ipykernel)",
   "language": "python",
   "name": "python3"
  },
  "language_info": {
   "codemirror_mode": {
    "name": "ipython",
    "version": 3
   },
   "file_extension": ".py",
   "mimetype": "text/x-python",
   "name": "python",
   "nbconvert_exporter": "python",
   "pygments_lexer": "ipython3",
   "version": "3.10.6"
  }
 },
 "nbformat": 4,
 "nbformat_minor": 4
}
